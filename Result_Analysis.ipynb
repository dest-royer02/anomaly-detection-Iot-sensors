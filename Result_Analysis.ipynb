{
  "cells": [
    {
      "cell_type": "code",
      "execution_count": null,
      "metadata": {
        "id": "gaUhoVNKQDAU",
        "colab": {
          "base_uri": "https://localhost:8080/"
        },
        "outputId": "1de7e30f-5ab1-45fd-f5f6-dad717470fb4"
      },
      "outputs": [
        {
          "output_type": "stream",
          "name": "stdout",
          "text": [
            "Mounted at /content/drive\n"
          ]
        }
      ],
      "source": [
        "import pandas as pd\n",
        "import numpy as np\n",
        "from google.colab import drive\n",
        "drive.mount('/content/drive')"
      ]
    },
    {
      "cell_type": "code",
      "execution_count": null,
      "metadata": {
        "id": "ZDzXG_6yQDAV"
      },
      "outputs": [],
      "source": [
        "df_explo = pd.read_csv(\"/content/drive/MyDrive/Explo_Dataset/df_explo.csv\")"
      ]
    },
    {
      "cell_type": "code",
      "source": [
        "df_explo.head()\n"
      ],
      "metadata": {
        "id": "qRlt6LXpvxnd",
        "outputId": "8e6c9ba7-bba9-472a-a057-cabe6da4c0c0",
        "colab": {
          "base_uri": "https://localhost:8080/",
          "height": 206
        }
      },
      "execution_count": null,
      "outputs": [
        {
          "output_type": "execute_result",
          "data": {
            "text/plain": [
              "   Unnamed: 0    0     1     2    3    4     5    6    7      8    9   10   11\n",
              "0           0  7.0  21.0  30.0  2.0  3.0  30.0  2.0  3.0   59.0  7.0  2.0  0.0\n",
              "1           1  7.0  32.0  70.0  2.0  4.0  68.0  2.0  4.0  134.0  7.0  2.0  0.0\n",
              "2           2  7.0  15.0   1.0  2.0  2.0   0.0  2.0  2.0    0.0  7.0  2.0  0.0\n",
              "3           3  7.0  33.0  77.0  2.0  7.0  73.0  2.0  7.0  144.0  7.0  2.0  0.0\n",
              "4           4  7.0  55.0  78.0  3.0  7.0  74.0  3.0  7.0  146.0  8.0  2.0  0.0"
            ],
            "text/html": [
              "\n",
              "  <div id=\"df-1e3cf8eb-280f-46d4-adfd-3076d1502c8f\">\n",
              "    <div class=\"colab-df-container\">\n",
              "      <div>\n",
              "<style scoped>\n",
              "    .dataframe tbody tr th:only-of-type {\n",
              "        vertical-align: middle;\n",
              "    }\n",
              "\n",
              "    .dataframe tbody tr th {\n",
              "        vertical-align: top;\n",
              "    }\n",
              "\n",
              "    .dataframe thead th {\n",
              "        text-align: right;\n",
              "    }\n",
              "</style>\n",
              "<table border=\"1\" class=\"dataframe\">\n",
              "  <thead>\n",
              "    <tr style=\"text-align: right;\">\n",
              "      <th></th>\n",
              "      <th>Unnamed: 0</th>\n",
              "      <th>0</th>\n",
              "      <th>1</th>\n",
              "      <th>2</th>\n",
              "      <th>3</th>\n",
              "      <th>4</th>\n",
              "      <th>5</th>\n",
              "      <th>6</th>\n",
              "      <th>7</th>\n",
              "      <th>8</th>\n",
              "      <th>9</th>\n",
              "      <th>10</th>\n",
              "      <th>11</th>\n",
              "    </tr>\n",
              "  </thead>\n",
              "  <tbody>\n",
              "    <tr>\n",
              "      <th>0</th>\n",
              "      <td>0</td>\n",
              "      <td>7.0</td>\n",
              "      <td>21.0</td>\n",
              "      <td>30.0</td>\n",
              "      <td>2.0</td>\n",
              "      <td>3.0</td>\n",
              "      <td>30.0</td>\n",
              "      <td>2.0</td>\n",
              "      <td>3.0</td>\n",
              "      <td>59.0</td>\n",
              "      <td>7.0</td>\n",
              "      <td>2.0</td>\n",
              "      <td>0.0</td>\n",
              "    </tr>\n",
              "    <tr>\n",
              "      <th>1</th>\n",
              "      <td>1</td>\n",
              "      <td>7.0</td>\n",
              "      <td>32.0</td>\n",
              "      <td>70.0</td>\n",
              "      <td>2.0</td>\n",
              "      <td>4.0</td>\n",
              "      <td>68.0</td>\n",
              "      <td>2.0</td>\n",
              "      <td>4.0</td>\n",
              "      <td>134.0</td>\n",
              "      <td>7.0</td>\n",
              "      <td>2.0</td>\n",
              "      <td>0.0</td>\n",
              "    </tr>\n",
              "    <tr>\n",
              "      <th>2</th>\n",
              "      <td>2</td>\n",
              "      <td>7.0</td>\n",
              "      <td>15.0</td>\n",
              "      <td>1.0</td>\n",
              "      <td>2.0</td>\n",
              "      <td>2.0</td>\n",
              "      <td>0.0</td>\n",
              "      <td>2.0</td>\n",
              "      <td>2.0</td>\n",
              "      <td>0.0</td>\n",
              "      <td>7.0</td>\n",
              "      <td>2.0</td>\n",
              "      <td>0.0</td>\n",
              "    </tr>\n",
              "    <tr>\n",
              "      <th>3</th>\n",
              "      <td>3</td>\n",
              "      <td>7.0</td>\n",
              "      <td>33.0</td>\n",
              "      <td>77.0</td>\n",
              "      <td>2.0</td>\n",
              "      <td>7.0</td>\n",
              "      <td>73.0</td>\n",
              "      <td>2.0</td>\n",
              "      <td>7.0</td>\n",
              "      <td>144.0</td>\n",
              "      <td>7.0</td>\n",
              "      <td>2.0</td>\n",
              "      <td>0.0</td>\n",
              "    </tr>\n",
              "    <tr>\n",
              "      <th>4</th>\n",
              "      <td>4</td>\n",
              "      <td>7.0</td>\n",
              "      <td>55.0</td>\n",
              "      <td>78.0</td>\n",
              "      <td>3.0</td>\n",
              "      <td>7.0</td>\n",
              "      <td>74.0</td>\n",
              "      <td>3.0</td>\n",
              "      <td>7.0</td>\n",
              "      <td>146.0</td>\n",
              "      <td>8.0</td>\n",
              "      <td>2.0</td>\n",
              "      <td>0.0</td>\n",
              "    </tr>\n",
              "  </tbody>\n",
              "</table>\n",
              "</div>\n",
              "      <button class=\"colab-df-convert\" onclick=\"convertToInteractive('df-1e3cf8eb-280f-46d4-adfd-3076d1502c8f')\"\n",
              "              title=\"Convert this dataframe to an interactive table.\"\n",
              "              style=\"display:none;\">\n",
              "        \n",
              "  <svg xmlns=\"http://www.w3.org/2000/svg\" height=\"24px\"viewBox=\"0 0 24 24\"\n",
              "       width=\"24px\">\n",
              "    <path d=\"M0 0h24v24H0V0z\" fill=\"none\"/>\n",
              "    <path d=\"M18.56 5.44l.94 2.06.94-2.06 2.06-.94-2.06-.94-.94-2.06-.94 2.06-2.06.94zm-11 1L8.5 8.5l.94-2.06 2.06-.94-2.06-.94L8.5 2.5l-.94 2.06-2.06.94zm10 10l.94 2.06.94-2.06 2.06-.94-2.06-.94-.94-2.06-.94 2.06-2.06.94z\"/><path d=\"M17.41 7.96l-1.37-1.37c-.4-.4-.92-.59-1.43-.59-.52 0-1.04.2-1.43.59L10.3 9.45l-7.72 7.72c-.78.78-.78 2.05 0 2.83L4 21.41c.39.39.9.59 1.41.59.51 0 1.02-.2 1.41-.59l7.78-7.78 2.81-2.81c.8-.78.8-2.07 0-2.86zM5.41 20L4 18.59l7.72-7.72 1.47 1.35L5.41 20z\"/>\n",
              "  </svg>\n",
              "      </button>\n",
              "      \n",
              "  <style>\n",
              "    .colab-df-container {\n",
              "      display:flex;\n",
              "      flex-wrap:wrap;\n",
              "      gap: 12px;\n",
              "    }\n",
              "\n",
              "    .colab-df-convert {\n",
              "      background-color: #E8F0FE;\n",
              "      border: none;\n",
              "      border-radius: 50%;\n",
              "      cursor: pointer;\n",
              "      display: none;\n",
              "      fill: #1967D2;\n",
              "      height: 32px;\n",
              "      padding: 0 0 0 0;\n",
              "      width: 32px;\n",
              "    }\n",
              "\n",
              "    .colab-df-convert:hover {\n",
              "      background-color: #E2EBFA;\n",
              "      box-shadow: 0px 1px 2px rgba(60, 64, 67, 0.3), 0px 1px 3px 1px rgba(60, 64, 67, 0.15);\n",
              "      fill: #174EA6;\n",
              "    }\n",
              "\n",
              "    [theme=dark] .colab-df-convert {\n",
              "      background-color: #3B4455;\n",
              "      fill: #D2E3FC;\n",
              "    }\n",
              "\n",
              "    [theme=dark] .colab-df-convert:hover {\n",
              "      background-color: #434B5C;\n",
              "      box-shadow: 0px 1px 3px 1px rgba(0, 0, 0, 0.15);\n",
              "      filter: drop-shadow(0px 1px 2px rgba(0, 0, 0, 0.3));\n",
              "      fill: #FFFFFF;\n",
              "    }\n",
              "  </style>\n",
              "\n",
              "      <script>\n",
              "        const buttonEl =\n",
              "          document.querySelector('#df-1e3cf8eb-280f-46d4-adfd-3076d1502c8f button.colab-df-convert');\n",
              "        buttonEl.style.display =\n",
              "          google.colab.kernel.accessAllowed ? 'block' : 'none';\n",
              "\n",
              "        async function convertToInteractive(key) {\n",
              "          const element = document.querySelector('#df-1e3cf8eb-280f-46d4-adfd-3076d1502c8f');\n",
              "          const dataTable =\n",
              "            await google.colab.kernel.invokeFunction('convertToInteractive',\n",
              "                                                     [key], {});\n",
              "          if (!dataTable) return;\n",
              "\n",
              "          const docLinkHtml = 'Like what you see? Visit the ' +\n",
              "            '<a target=\"_blank\" href=https://colab.research.google.com/notebooks/data_table.ipynb>data table notebook</a>'\n",
              "            + ' to learn more about interactive tables.';\n",
              "          element.innerHTML = '';\n",
              "          dataTable['output_type'] = 'display_data';\n",
              "          await google.colab.output.renderOutput(dataTable, element);\n",
              "          const docLink = document.createElement('div');\n",
              "          docLink.innerHTML = docLinkHtml;\n",
              "          element.appendChild(docLink);\n",
              "        }\n",
              "      </script>\n",
              "    </div>\n",
              "  </div>\n",
              "  "
            ]
          },
          "metadata": {},
          "execution_count": 3
        }
      ]
    },
    {
      "cell_type": "code",
      "execution_count": null,
      "metadata": {
        "id": "YUme2MTxQDAX"
      },
      "outputs": [],
      "source": [
        "df_explo = df_explo.drop(columns=\"Unnamed: 0\")"
      ]
    },
    {
      "cell_type": "code",
      "execution_count": null,
      "metadata": {
        "id": "foXaoY1oQDAX",
        "outputId": "a38ec405-701b-4f37-ae35-ed8905dcc34e",
        "colab": {
          "base_uri": "https://localhost:8080/",
          "height": 206
        }
      },
      "outputs": [
        {
          "output_type": "execute_result",
          "data": {
            "text/plain": [
              "     0     1     2    3    4     5    6    7      8    9   10   11\n",
              "0  7.0  21.0  30.0  2.0  3.0  30.0  2.0  3.0   59.0  7.0  2.0  0.0\n",
              "1  7.0  32.0  70.0  2.0  4.0  68.0  2.0  4.0  134.0  7.0  2.0  0.0\n",
              "2  7.0  15.0   1.0  2.0  2.0   0.0  2.0  2.0    0.0  7.0  2.0  0.0\n",
              "3  7.0  33.0  77.0  2.0  7.0  73.0  2.0  7.0  144.0  7.0  2.0  0.0\n",
              "4  7.0  55.0  78.0  3.0  7.0  74.0  3.0  7.0  146.0  8.0  2.0  0.0"
            ],
            "text/html": [
              "\n",
              "  <div id=\"df-56d34cae-6268-4f63-b6b0-09e1c62688b0\">\n",
              "    <div class=\"colab-df-container\">\n",
              "      <div>\n",
              "<style scoped>\n",
              "    .dataframe tbody tr th:only-of-type {\n",
              "        vertical-align: middle;\n",
              "    }\n",
              "\n",
              "    .dataframe tbody tr th {\n",
              "        vertical-align: top;\n",
              "    }\n",
              "\n",
              "    .dataframe thead th {\n",
              "        text-align: right;\n",
              "    }\n",
              "</style>\n",
              "<table border=\"1\" class=\"dataframe\">\n",
              "  <thead>\n",
              "    <tr style=\"text-align: right;\">\n",
              "      <th></th>\n",
              "      <th>0</th>\n",
              "      <th>1</th>\n",
              "      <th>2</th>\n",
              "      <th>3</th>\n",
              "      <th>4</th>\n",
              "      <th>5</th>\n",
              "      <th>6</th>\n",
              "      <th>7</th>\n",
              "      <th>8</th>\n",
              "      <th>9</th>\n",
              "      <th>10</th>\n",
              "      <th>11</th>\n",
              "    </tr>\n",
              "  </thead>\n",
              "  <tbody>\n",
              "    <tr>\n",
              "      <th>0</th>\n",
              "      <td>7.0</td>\n",
              "      <td>21.0</td>\n",
              "      <td>30.0</td>\n",
              "      <td>2.0</td>\n",
              "      <td>3.0</td>\n",
              "      <td>30.0</td>\n",
              "      <td>2.0</td>\n",
              "      <td>3.0</td>\n",
              "      <td>59.0</td>\n",
              "      <td>7.0</td>\n",
              "      <td>2.0</td>\n",
              "      <td>0.0</td>\n",
              "    </tr>\n",
              "    <tr>\n",
              "      <th>1</th>\n",
              "      <td>7.0</td>\n",
              "      <td>32.0</td>\n",
              "      <td>70.0</td>\n",
              "      <td>2.0</td>\n",
              "      <td>4.0</td>\n",
              "      <td>68.0</td>\n",
              "      <td>2.0</td>\n",
              "      <td>4.0</td>\n",
              "      <td>134.0</td>\n",
              "      <td>7.0</td>\n",
              "      <td>2.0</td>\n",
              "      <td>0.0</td>\n",
              "    </tr>\n",
              "    <tr>\n",
              "      <th>2</th>\n",
              "      <td>7.0</td>\n",
              "      <td>15.0</td>\n",
              "      <td>1.0</td>\n",
              "      <td>2.0</td>\n",
              "      <td>2.0</td>\n",
              "      <td>0.0</td>\n",
              "      <td>2.0</td>\n",
              "      <td>2.0</td>\n",
              "      <td>0.0</td>\n",
              "      <td>7.0</td>\n",
              "      <td>2.0</td>\n",
              "      <td>0.0</td>\n",
              "    </tr>\n",
              "    <tr>\n",
              "      <th>3</th>\n",
              "      <td>7.0</td>\n",
              "      <td>33.0</td>\n",
              "      <td>77.0</td>\n",
              "      <td>2.0</td>\n",
              "      <td>7.0</td>\n",
              "      <td>73.0</td>\n",
              "      <td>2.0</td>\n",
              "      <td>7.0</td>\n",
              "      <td>144.0</td>\n",
              "      <td>7.0</td>\n",
              "      <td>2.0</td>\n",
              "      <td>0.0</td>\n",
              "    </tr>\n",
              "    <tr>\n",
              "      <th>4</th>\n",
              "      <td>7.0</td>\n",
              "      <td>55.0</td>\n",
              "      <td>78.0</td>\n",
              "      <td>3.0</td>\n",
              "      <td>7.0</td>\n",
              "      <td>74.0</td>\n",
              "      <td>3.0</td>\n",
              "      <td>7.0</td>\n",
              "      <td>146.0</td>\n",
              "      <td>8.0</td>\n",
              "      <td>2.0</td>\n",
              "      <td>0.0</td>\n",
              "    </tr>\n",
              "  </tbody>\n",
              "</table>\n",
              "</div>\n",
              "      <button class=\"colab-df-convert\" onclick=\"convertToInteractive('df-56d34cae-6268-4f63-b6b0-09e1c62688b0')\"\n",
              "              title=\"Convert this dataframe to an interactive table.\"\n",
              "              style=\"display:none;\">\n",
              "        \n",
              "  <svg xmlns=\"http://www.w3.org/2000/svg\" height=\"24px\"viewBox=\"0 0 24 24\"\n",
              "       width=\"24px\">\n",
              "    <path d=\"M0 0h24v24H0V0z\" fill=\"none\"/>\n",
              "    <path d=\"M18.56 5.44l.94 2.06.94-2.06 2.06-.94-2.06-.94-.94-2.06-.94 2.06-2.06.94zm-11 1L8.5 8.5l.94-2.06 2.06-.94-2.06-.94L8.5 2.5l-.94 2.06-2.06.94zm10 10l.94 2.06.94-2.06 2.06-.94-2.06-.94-.94-2.06-.94 2.06-2.06.94z\"/><path d=\"M17.41 7.96l-1.37-1.37c-.4-.4-.92-.59-1.43-.59-.52 0-1.04.2-1.43.59L10.3 9.45l-7.72 7.72c-.78.78-.78 2.05 0 2.83L4 21.41c.39.39.9.59 1.41.59.51 0 1.02-.2 1.41-.59l7.78-7.78 2.81-2.81c.8-.78.8-2.07 0-2.86zM5.41 20L4 18.59l7.72-7.72 1.47 1.35L5.41 20z\"/>\n",
              "  </svg>\n",
              "      </button>\n",
              "      \n",
              "  <style>\n",
              "    .colab-df-container {\n",
              "      display:flex;\n",
              "      flex-wrap:wrap;\n",
              "      gap: 12px;\n",
              "    }\n",
              "\n",
              "    .colab-df-convert {\n",
              "      background-color: #E8F0FE;\n",
              "      border: none;\n",
              "      border-radius: 50%;\n",
              "      cursor: pointer;\n",
              "      display: none;\n",
              "      fill: #1967D2;\n",
              "      height: 32px;\n",
              "      padding: 0 0 0 0;\n",
              "      width: 32px;\n",
              "    }\n",
              "\n",
              "    .colab-df-convert:hover {\n",
              "      background-color: #E2EBFA;\n",
              "      box-shadow: 0px 1px 2px rgba(60, 64, 67, 0.3), 0px 1px 3px 1px rgba(60, 64, 67, 0.15);\n",
              "      fill: #174EA6;\n",
              "    }\n",
              "\n",
              "    [theme=dark] .colab-df-convert {\n",
              "      background-color: #3B4455;\n",
              "      fill: #D2E3FC;\n",
              "    }\n",
              "\n",
              "    [theme=dark] .colab-df-convert:hover {\n",
              "      background-color: #434B5C;\n",
              "      box-shadow: 0px 1px 3px 1px rgba(0, 0, 0, 0.15);\n",
              "      filter: drop-shadow(0px 1px 2px rgba(0, 0, 0, 0.3));\n",
              "      fill: #FFFFFF;\n",
              "    }\n",
              "  </style>\n",
              "\n",
              "      <script>\n",
              "        const buttonEl =\n",
              "          document.querySelector('#df-56d34cae-6268-4f63-b6b0-09e1c62688b0 button.colab-df-convert');\n",
              "        buttonEl.style.display =\n",
              "          google.colab.kernel.accessAllowed ? 'block' : 'none';\n",
              "\n",
              "        async function convertToInteractive(key) {\n",
              "          const element = document.querySelector('#df-56d34cae-6268-4f63-b6b0-09e1c62688b0');\n",
              "          const dataTable =\n",
              "            await google.colab.kernel.invokeFunction('convertToInteractive',\n",
              "                                                     [key], {});\n",
              "          if (!dataTable) return;\n",
              "\n",
              "          const docLinkHtml = 'Like what you see? Visit the ' +\n",
              "            '<a target=\"_blank\" href=https://colab.research.google.com/notebooks/data_table.ipynb>data table notebook</a>'\n",
              "            + ' to learn more about interactive tables.';\n",
              "          element.innerHTML = '';\n",
              "          dataTable['output_type'] = 'display_data';\n",
              "          await google.colab.output.renderOutput(dataTable, element);\n",
              "          const docLink = document.createElement('div');\n",
              "          docLink.innerHTML = docLinkHtml;\n",
              "          element.appendChild(docLink);\n",
              "        }\n",
              "      </script>\n",
              "    </div>\n",
              "  </div>\n",
              "  "
            ]
          },
          "metadata": {},
          "execution_count": 5
        }
      ],
      "source": [
        "df_explo.head()"
      ]
    },
    {
      "cell_type": "code",
      "source": [
        "df_explo.describe()"
      ],
      "metadata": {
        "colab": {
          "base_uri": "https://localhost:8080/",
          "height": 344
        },
        "id": "oe2VsxM9mN9F",
        "outputId": "76daf308-6849-4fc4-c2d2-3b616061cf2d"
      },
      "execution_count": null,
      "outputs": [
        {
          "output_type": "execute_result",
          "data": {
            "text/plain": [
              "                   0              1              2              3  \\\n",
              "count  357941.000000  357941.000000  357941.000000  357941.000000   \n",
              "mean        6.843538      38.148270      45.014326       2.762687   \n",
              "std         0.971815      29.956272      27.794768       2.214635   \n",
              "min         0.000000       0.000000       0.000000       0.000000   \n",
              "25%         7.000000      15.000000      16.000000       2.000000   \n",
              "50%         7.000000      28.000000      45.000000       2.000000   \n",
              "75%         7.000000      71.000000      73.000000       4.000000   \n",
              "max         7.000000      83.000000      88.000000       7.000000   \n",
              "\n",
              "                   4              5              6              7  \\\n",
              "count  357941.000000  357941.000000  357941.000000  357941.000000   \n",
              "mean        8.586136      42.755761       2.294183       8.689728   \n",
              "std         5.506188      26.767912       1.793757       5.256567   \n",
              "min         0.000000       0.000000       0.000000       0.000000   \n",
              "25%         5.000000      16.000000       0.000000       5.000000   \n",
              "50%         8.000000      43.000000       3.000000       7.000000   \n",
              "75%        12.000000      71.000000       4.000000      12.000000   \n",
              "max        20.000000      84.000000       7.000000      20.000000   \n",
              "\n",
              "                   8              9             10            11  \n",
              "count  357941.000000  357941.000000  357941.000000  3.579410e+05  \n",
              "mean       85.653161       5.465493       1.612481  2.443704e+09  \n",
              "std        53.244985       2.895921       0.922408  6.092170e+10  \n",
              "min         0.000000       0.000000       0.000000  0.000000e+00  \n",
              "25%        32.000000       2.000000       1.000000  1.000000e+00  \n",
              "50%        86.000000       5.000000       1.000000  5.000000e+00  \n",
              "75%       140.000000       9.000000       3.000000  1.983910e+01  \n",
              "max       169.000000      12.000000       3.000000  1.521225e+12  "
            ],
            "text/html": [
              "\n",
              "  <div id=\"df-f991075c-c181-4b55-9503-2ca346e408d9\">\n",
              "    <div class=\"colab-df-container\">\n",
              "      <div>\n",
              "<style scoped>\n",
              "    .dataframe tbody tr th:only-of-type {\n",
              "        vertical-align: middle;\n",
              "    }\n",
              "\n",
              "    .dataframe tbody tr th {\n",
              "        vertical-align: top;\n",
              "    }\n",
              "\n",
              "    .dataframe thead th {\n",
              "        text-align: right;\n",
              "    }\n",
              "</style>\n",
              "<table border=\"1\" class=\"dataframe\">\n",
              "  <thead>\n",
              "    <tr style=\"text-align: right;\">\n",
              "      <th></th>\n",
              "      <th>0</th>\n",
              "      <th>1</th>\n",
              "      <th>2</th>\n",
              "      <th>3</th>\n",
              "      <th>4</th>\n",
              "      <th>5</th>\n",
              "      <th>6</th>\n",
              "      <th>7</th>\n",
              "      <th>8</th>\n",
              "      <th>9</th>\n",
              "      <th>10</th>\n",
              "      <th>11</th>\n",
              "    </tr>\n",
              "  </thead>\n",
              "  <tbody>\n",
              "    <tr>\n",
              "      <th>count</th>\n",
              "      <td>357941.000000</td>\n",
              "      <td>357941.000000</td>\n",
              "      <td>357941.000000</td>\n",
              "      <td>357941.000000</td>\n",
              "      <td>357941.000000</td>\n",
              "      <td>357941.000000</td>\n",
              "      <td>357941.000000</td>\n",
              "      <td>357941.000000</td>\n",
              "      <td>357941.000000</td>\n",
              "      <td>357941.000000</td>\n",
              "      <td>357941.000000</td>\n",
              "      <td>3.579410e+05</td>\n",
              "    </tr>\n",
              "    <tr>\n",
              "      <th>mean</th>\n",
              "      <td>6.843538</td>\n",
              "      <td>38.148270</td>\n",
              "      <td>45.014326</td>\n",
              "      <td>2.762687</td>\n",
              "      <td>8.586136</td>\n",
              "      <td>42.755761</td>\n",
              "      <td>2.294183</td>\n",
              "      <td>8.689728</td>\n",
              "      <td>85.653161</td>\n",
              "      <td>5.465493</td>\n",
              "      <td>1.612481</td>\n",
              "      <td>2.443704e+09</td>\n",
              "    </tr>\n",
              "    <tr>\n",
              "      <th>std</th>\n",
              "      <td>0.971815</td>\n",
              "      <td>29.956272</td>\n",
              "      <td>27.794768</td>\n",
              "      <td>2.214635</td>\n",
              "      <td>5.506188</td>\n",
              "      <td>26.767912</td>\n",
              "      <td>1.793757</td>\n",
              "      <td>5.256567</td>\n",
              "      <td>53.244985</td>\n",
              "      <td>2.895921</td>\n",
              "      <td>0.922408</td>\n",
              "      <td>6.092170e+10</td>\n",
              "    </tr>\n",
              "    <tr>\n",
              "      <th>min</th>\n",
              "      <td>0.000000</td>\n",
              "      <td>0.000000</td>\n",
              "      <td>0.000000</td>\n",
              "      <td>0.000000</td>\n",
              "      <td>0.000000</td>\n",
              "      <td>0.000000</td>\n",
              "      <td>0.000000</td>\n",
              "      <td>0.000000</td>\n",
              "      <td>0.000000</td>\n",
              "      <td>0.000000</td>\n",
              "      <td>0.000000</td>\n",
              "      <td>0.000000e+00</td>\n",
              "    </tr>\n",
              "    <tr>\n",
              "      <th>25%</th>\n",
              "      <td>7.000000</td>\n",
              "      <td>15.000000</td>\n",
              "      <td>16.000000</td>\n",
              "      <td>2.000000</td>\n",
              "      <td>5.000000</td>\n",
              "      <td>16.000000</td>\n",
              "      <td>0.000000</td>\n",
              "      <td>5.000000</td>\n",
              "      <td>32.000000</td>\n",
              "      <td>2.000000</td>\n",
              "      <td>1.000000</td>\n",
              "      <td>1.000000e+00</td>\n",
              "    </tr>\n",
              "    <tr>\n",
              "      <th>50%</th>\n",
              "      <td>7.000000</td>\n",
              "      <td>28.000000</td>\n",
              "      <td>45.000000</td>\n",
              "      <td>2.000000</td>\n",
              "      <td>8.000000</td>\n",
              "      <td>43.000000</td>\n",
              "      <td>3.000000</td>\n",
              "      <td>7.000000</td>\n",
              "      <td>86.000000</td>\n",
              "      <td>5.000000</td>\n",
              "      <td>1.000000</td>\n",
              "      <td>5.000000e+00</td>\n",
              "    </tr>\n",
              "    <tr>\n",
              "      <th>75%</th>\n",
              "      <td>7.000000</td>\n",
              "      <td>71.000000</td>\n",
              "      <td>73.000000</td>\n",
              "      <td>4.000000</td>\n",
              "      <td>12.000000</td>\n",
              "      <td>71.000000</td>\n",
              "      <td>4.000000</td>\n",
              "      <td>12.000000</td>\n",
              "      <td>140.000000</td>\n",
              "      <td>9.000000</td>\n",
              "      <td>3.000000</td>\n",
              "      <td>1.983910e+01</td>\n",
              "    </tr>\n",
              "    <tr>\n",
              "      <th>max</th>\n",
              "      <td>7.000000</td>\n",
              "      <td>83.000000</td>\n",
              "      <td>88.000000</td>\n",
              "      <td>7.000000</td>\n",
              "      <td>20.000000</td>\n",
              "      <td>84.000000</td>\n",
              "      <td>7.000000</td>\n",
              "      <td>20.000000</td>\n",
              "      <td>169.000000</td>\n",
              "      <td>12.000000</td>\n",
              "      <td>3.000000</td>\n",
              "      <td>1.521225e+12</td>\n",
              "    </tr>\n",
              "  </tbody>\n",
              "</table>\n",
              "</div>\n",
              "      <button class=\"colab-df-convert\" onclick=\"convertToInteractive('df-f991075c-c181-4b55-9503-2ca346e408d9')\"\n",
              "              title=\"Convert this dataframe to an interactive table.\"\n",
              "              style=\"display:none;\">\n",
              "        \n",
              "  <svg xmlns=\"http://www.w3.org/2000/svg\" height=\"24px\"viewBox=\"0 0 24 24\"\n",
              "       width=\"24px\">\n",
              "    <path d=\"M0 0h24v24H0V0z\" fill=\"none\"/>\n",
              "    <path d=\"M18.56 5.44l.94 2.06.94-2.06 2.06-.94-2.06-.94-.94-2.06-.94 2.06-2.06.94zm-11 1L8.5 8.5l.94-2.06 2.06-.94-2.06-.94L8.5 2.5l-.94 2.06-2.06.94zm10 10l.94 2.06.94-2.06 2.06-.94-2.06-.94-.94-2.06-.94 2.06-2.06.94z\"/><path d=\"M17.41 7.96l-1.37-1.37c-.4-.4-.92-.59-1.43-.59-.52 0-1.04.2-1.43.59L10.3 9.45l-7.72 7.72c-.78.78-.78 2.05 0 2.83L4 21.41c.39.39.9.59 1.41.59.51 0 1.02-.2 1.41-.59l7.78-7.78 2.81-2.81c.8-.78.8-2.07 0-2.86zM5.41 20L4 18.59l7.72-7.72 1.47 1.35L5.41 20z\"/>\n",
              "  </svg>\n",
              "      </button>\n",
              "      \n",
              "  <style>\n",
              "    .colab-df-container {\n",
              "      display:flex;\n",
              "      flex-wrap:wrap;\n",
              "      gap: 12px;\n",
              "    }\n",
              "\n",
              "    .colab-df-convert {\n",
              "      background-color: #E8F0FE;\n",
              "      border: none;\n",
              "      border-radius: 50%;\n",
              "      cursor: pointer;\n",
              "      display: none;\n",
              "      fill: #1967D2;\n",
              "      height: 32px;\n",
              "      padding: 0 0 0 0;\n",
              "      width: 32px;\n",
              "    }\n",
              "\n",
              "    .colab-df-convert:hover {\n",
              "      background-color: #E2EBFA;\n",
              "      box-shadow: 0px 1px 2px rgba(60, 64, 67, 0.3), 0px 1px 3px 1px rgba(60, 64, 67, 0.15);\n",
              "      fill: #174EA6;\n",
              "    }\n",
              "\n",
              "    [theme=dark] .colab-df-convert {\n",
              "      background-color: #3B4455;\n",
              "      fill: #D2E3FC;\n",
              "    }\n",
              "\n",
              "    [theme=dark] .colab-df-convert:hover {\n",
              "      background-color: #434B5C;\n",
              "      box-shadow: 0px 1px 3px 1px rgba(0, 0, 0, 0.15);\n",
              "      filter: drop-shadow(0px 1px 2px rgba(0, 0, 0, 0.3));\n",
              "      fill: #FFFFFF;\n",
              "    }\n",
              "  </style>\n",
              "\n",
              "      <script>\n",
              "        const buttonEl =\n",
              "          document.querySelector('#df-f991075c-c181-4b55-9503-2ca346e408d9 button.colab-df-convert');\n",
              "        buttonEl.style.display =\n",
              "          google.colab.kernel.accessAllowed ? 'block' : 'none';\n",
              "\n",
              "        async function convertToInteractive(key) {\n",
              "          const element = document.querySelector('#df-f991075c-c181-4b55-9503-2ca346e408d9');\n",
              "          const dataTable =\n",
              "            await google.colab.kernel.invokeFunction('convertToInteractive',\n",
              "                                                     [key], {});\n",
              "          if (!dataTable) return;\n",
              "\n",
              "          const docLinkHtml = 'Like what you see? Visit the ' +\n",
              "            '<a target=\"_blank\" href=https://colab.research.google.com/notebooks/data_table.ipynb>data table notebook</a>'\n",
              "            + ' to learn more about interactive tables.';\n",
              "          element.innerHTML = '';\n",
              "          dataTable['output_type'] = 'display_data';\n",
              "          await google.colab.output.renderOutput(dataTable, element);\n",
              "          const docLink = document.createElement('div');\n",
              "          docLink.innerHTML = docLinkHtml;\n",
              "          element.appendChild(docLink);\n",
              "        }\n",
              "      </script>\n",
              "    </div>\n",
              "  </div>\n",
              "  "
            ]
          },
          "metadata": {},
          "execution_count": 6
        }
      ]
    },
    {
      "cell_type": "markdown",
      "metadata": {
        "id": "smC1JA49QDAX"
      },
      "source": [
        "# In the following code X contains features and y contains label"
      ]
    },
    {
      "cell_type": "code",
      "execution_count": null,
      "metadata": {
        "id": "RRL867JBQDAY"
      },
      "outputs": [],
      "source": [
        "y = df_explo.iloc[:,0].values\n",
        "X = df_explo.iloc[:,1:].values"
      ]
    },
    {
      "cell_type": "code",
      "source": [
        "y #first column in df_explo is the target variable"
      ],
      "metadata": {
        "colab": {
          "base_uri": "https://localhost:8080/"
        },
        "id": "3lZpAzmgg5eS",
        "outputId": "f6856eb8-eb1e-409e-f584-e90888081d03"
      },
      "execution_count": null,
      "outputs": [
        {
          "output_type": "execute_result",
          "data": {
            "text/plain": [
              "array([7., 7., 7., ..., 7., 7., 7.])"
            ]
          },
          "metadata": {},
          "execution_count": 8
        }
      ]
    },
    {
      "cell_type": "code",
      "source": [
        "X  #from 2nd Column onwards features"
      ],
      "metadata": {
        "colab": {
          "base_uri": "https://localhost:8080/"
        },
        "id": "9rDw3wcyg_3p",
        "outputId": "3d40fdfd-13d6-4d7f-870a-7bb318ca87a4"
      },
      "execution_count": null,
      "outputs": [
        {
          "output_type": "execute_result",
          "data": {
            "text/plain": [
              "array([[21.    , 30.    ,  2.    , ...,  7.    ,  2.    ,  0.    ],\n",
              "       [32.    , 70.    ,  2.    , ...,  7.    ,  2.    ,  0.    ],\n",
              "       [15.    ,  1.    ,  2.    , ...,  7.    ,  2.    ,  0.    ],\n",
              "       ...,\n",
              "       [82.    , 14.    ,  7.    , ...,  3.    ,  1.    ,  1.    ],\n",
              "       [30.    , 62.    ,  2.    , ...,  5.    ,  1.    ,  0.    ],\n",
              "       [30.    , 62.    ,  2.    , ...,  9.    ,  1.    , 20.4131]])"
            ]
          },
          "metadata": {},
          "execution_count": 9
        }
      ]
    },
    {
      "cell_type": "markdown",
      "metadata": {
        "id": "5x3ADaZNQDAY"
      },
      "source": [
        "# The whole dataset is split into 80:20 ratio. Train dataset contains 80% of the features and Test dataset contains 20% of the features."
      ]
    },
    {
      "cell_type": "code",
      "execution_count": null,
      "metadata": {
        "id": "gDVnOyt2QDAZ"
      },
      "outputs": [],
      "source": [
        "from sklearn.model_selection import train_test_split\n",
        "X_train, X_test, y_train, y_test = train_test_split(X,y, test_size=0.2, random_state = 1) #test size 20% and random state for shuffling"
      ]
    },
    {
      "cell_type": "code",
      "execution_count": null,
      "metadata": {
        "id": "Njnb_kQRQDAZ"
      },
      "outputs": [],
      "source": [
        "from sklearn.preprocessing import StandardScaler # for normalizing and scaling the data\n",
        "from sklearn.pipeline import Pipeline #for performing a set of action in a desired order containing various 'transforms' and final estimator\n",
        "from sklearn.linear_model import LogisticRegression\n",
        "from sklearn.model_selection import cross_val_score\n",
        "import matplotlib.pyplot as plt\n",
        "from sklearn.model_selection import learning_curve\n",
        "import numpy as np"
      ]
    },
    {
      "cell_type": "markdown",
      "metadata": {
        "id": "zM2xPwmtQDAa"
      },
      "source": [
        "# 5-Fold Cross validation Estimation for Logistic Regression"
      ]
    },
    {
      "cell_type": "code",
      "execution_count": null,
      "metadata": {
        "id": "huQKQ0HVQDAa"
      },
      "outputs": [],
      "source": [
        "pipe_lr = Pipeline([('scl', StandardScaler()),('clf', LogisticRegression(penalty='l2', random_state=0))])\n",
        "train_sizes, train_scores, test_scores = learning_curve(estimator=pipe_lr,X=X, y=y, train_sizes=np.linspace(0.2,1.0,5), cv=5, n_jobs=-1)\n",
        "train_mean = np.mean(train_scores, axis=1)\n",
        "train_std = np.std(train_scores, axis=1)\n",
        "test_mean = np.mean(test_scores, axis=1)\n",
        "test_std = np.std(test_scores, axis=1)"
      ]
    },
    {
      "cell_type": "code",
      "execution_count": null,
      "metadata": {
        "id": "ur_hnrNTQDAa",
        "outputId": "4d119277-6f68-46ad-947a-533b77be0ead",
        "colab": {
          "base_uri": "https://localhost:8080/"
        }
      },
      "outputs": [
        {
          "output_type": "stream",
          "name": "stdout",
          "text": [
            "57270\n",
            "114540\n",
            "171811\n",
            "229081\n",
            "286352\n"
          ]
        }
      ],
      "source": [
        "for i in train_sizes:\n",
        "    print(i)"
      ]
    },
    {
      "cell_type": "code",
      "execution_count": null,
      "metadata": {
        "id": "fckqxLijQDAa",
        "outputId": "6f6fe147-1cb1-4dbc-971c-28824e259df6",
        "colab": {
          "base_uri": "https://localhost:8080/"
        }
      },
      "outputs": [
        {
          "output_type": "stream",
          "name": "stdout",
          "text": [
            "0.9864361795006111\n",
            "0.986911122751877\n",
            "0.9868308781160694\n",
            "0.9865846578284538\n",
            "0.9883136838576296\n"
          ]
        }
      ],
      "source": [
        "for i in train_mean:\n",
        "    print(i)"
      ]
    },
    {
      "cell_type": "code",
      "execution_count": null,
      "metadata": {
        "id": "yryWoSQXQDAb",
        "outputId": "fe163b2a-2f75-44c4-a971-488f13af4e22",
        "colab": {
          "base_uri": "https://localhost:8080/"
        }
      },
      "outputs": [
        {
          "output_type": "stream",
          "name": "stdout",
          "text": [
            "0.8969772041405518\n",
            "0.8779824156058529\n",
            "0.9781109282961822\n",
            "0.9846064215159688\n",
            "0.9880902458937426\n"
          ]
        }
      ],
      "source": [
        "for i in test_mean:\n",
        "    print(i)"
      ]
    },
    {
      "cell_type": "markdown",
      "metadata": {
        "id": "JsJy0ba3QDAd"
      },
      "source": [
        "# 5-Fold Cross validation Estimation for Random Forest"
      ]
    },
    {
      "cell_type": "code",
      "execution_count": null,
      "metadata": {
        "id": "KUJC3T1FQDAd"
      },
      "outputs": [],
      "source": [
        "from sklearn.ensemble import RandomForestClassifier"
      ]
    },
    {
      "cell_type": "code",
      "execution_count": null,
      "metadata": {
        "id": "zE0uemBDQDAe"
      },
      "outputs": [],
      "source": [
        "pipe_rnd = Pipeline([('scl', StandardScaler()),('clf', RandomForestClassifier(n_estimators=10))])\n",
        "train_sizes_rnd, train_scores_rnd, test_scores_rnd = learning_curve(estimator=pipe_rnd,X=X, y=y, train_sizes=np.linspace(0.2,1.0,5), cv=5, n_jobs=-1)\n",
        "train_mean_rnd = np.mean(train_scores_rnd, axis=1)\n",
        "train_std_rnd = np.std(train_scores_rnd, axis=1)\n",
        "test_mean_rnd = np.mean(test_scores_rnd, axis=1)\n",
        "test_std_rnd = np.std(test_scores_rnd, axis=1)"
      ]
    },
    {
      "cell_type": "code",
      "execution_count": null,
      "metadata": {
        "id": "AWKL9ApHQDAe",
        "outputId": "c23c8f06-0564-4081-ba12-8a619895a6d0",
        "colab": {
          "base_uri": "https://localhost:8080/"
        }
      },
      "outputs": [
        {
          "output_type": "stream",
          "name": "stdout",
          "text": [
            "0.9866841278156103\n",
            "0.9884634188929631\n",
            "0.9906874414327372\n",
            "0.9928566751498378\n",
            "0.9942169078616528\n"
          ]
        }
      ],
      "source": [
        "for i in train_mean_rnd:\n",
        "    print(i)"
      ]
    },
    {
      "cell_type": "code",
      "execution_count": null,
      "metadata": {
        "id": "l4XCJw--QDAe",
        "outputId": "ae6d279d-b0d1-435f-b6ac-2fd25f633690",
        "colab": {
          "base_uri": "https://localhost:8080/"
        }
      },
      "outputs": [
        {
          "output_type": "stream",
          "name": "stdout",
          "text": [
            "0.9283120643024368\n",
            "0.960711356552556\n",
            "0.9801643376551837\n",
            "0.9884813648200831\n",
            "0.9932195868400298\n"
          ]
        }
      ],
      "source": [
        "for i in test_mean_rnd:\n",
        "    print(i)"
      ]
    },
    {
      "cell_type": "markdown",
      "metadata": {
        "id": "socqcdPNQDAe"
      },
      "source": [
        "# 5-Fold Cross validation Estimation for ANN"
      ]
    },
    {
      "cell_type": "code",
      "execution_count": null,
      "metadata": {
        "id": "VfSm5MxgQDAe"
      },
      "outputs": [],
      "source": [
        "from sklearn.neural_network import MLPClassifier\n",
        "mlp = MLPClassifier(hidden_layer_sizes=(50,), max_iter=10, alpha=1e-4, solver='sgd', verbose=10, tol=1e-4, random_state=1, learning_rate_init=.1)"
      ]
    },
    {
      "cell_type": "code",
      "execution_count": null,
      "metadata": {
        "id": "UfpmeGfaQDAe"
      },
      "outputs": [],
      "source": [
        "pipe_mlp = Pipeline([('scl', StandardScaler()),('clf', mlp)])\n",
        "train_sizes_mlp, train_scores_mlp, test_scores_mlp = learning_curve(estimator=pipe_mlp,X=X, y=y, train_sizes=np.linspace(0.2,1.0,5), cv=5, n_jobs=-1)\n",
        "train_mean_mlp = np.mean(train_scores_mlp, axis=1)\n",
        "train_std_mlp = np.std(train_scores_mlp, axis=1)\n",
        "test_mean_mlp = np.mean(test_scores_mlp, axis=1)\n",
        "test_std_mlp = np.std(test_scores_mlp, axis=1)"
      ]
    },
    {
      "cell_type": "code",
      "execution_count": null,
      "metadata": {
        "id": "Vd5ZavU3QDAf",
        "outputId": "486c890c-652b-497c-c469-0f8c0edca92d",
        "colab": {
          "base_uri": "https://localhost:8080/"
        }
      },
      "outputs": [
        {
          "output_type": "stream",
          "name": "stdout",
          "text": [
            "0.985339619346953\n",
            "0.9879710144927536\n",
            "0.9900728125672977\n",
            "0.9914135174894468\n",
            "0.9941638263396101\n"
          ]
        }
      ],
      "source": [
        "for i in train_mean_mlp:\n",
        "    print(i)"
      ]
    },
    {
      "cell_type": "code",
      "execution_count": null,
      "metadata": {
        "id": "kHbaEs_YQDAf",
        "outputId": "3304edeb-fa7e-431d-9c1e-2ea6afc1c17a",
        "colab": {
          "base_uri": "https://localhost:8080/"
        }
      },
      "outputs": [
        {
          "output_type": "stream",
          "name": "stdout",
          "text": [
            "0.9150305087344645\n",
            "0.9029139603799254\n",
            "0.9762279246286383\n",
            "0.9843633560982139\n",
            "0.9930882811268583\n"
          ]
        }
      ],
      "source": [
        "for i in test_mean_mlp:\n",
        "    print(i)"
      ]
    },
    {
      "cell_type": "markdown",
      "metadata": {
        "id": "xkJGe2HvQDAf"
      },
      "source": [
        "# Mean values of Training and Testing accuracies and Standard Deviation of Training and Testing accuracies are given below"
      ]
    },
    {
      "cell_type": "code",
      "source": [
        "# For Train Dataset"
      ],
      "metadata": {
        "id": "dFbiqvZApRMh"
      },
      "execution_count": null,
      "outputs": []
    },
    {
      "cell_type": "code",
      "execution_count": null,
      "metadata": {
        "id": "EYGYxMj8QDAf",
        "outputId": "7bc85644-80a1-4481-c1d3-e2d72b950c2c",
        "colab": {
          "base_uri": "https://localhost:8080/"
        }
      },
      "outputs": [
        {
          "output_type": "execute_result",
          "data": {
            "text/plain": [
              "(0.9870153044109282, 0.9905817142305603, 0.9897921580472122)"
            ]
          },
          "metadata": {},
          "execution_count": 25
        }
      ],
      "source": [
        "np.mean(train_mean), np.mean(train_mean_rnd), np.mean(train_mean_mlp)  # for logistic regression, random forest and ANN"
      ]
    },
    {
      "cell_type": "code",
      "execution_count": null,
      "metadata": {
        "id": "eXOywG1wQDAf",
        "outputId": "d39bdc28-3624-4f2b-8000-45c04d38846d",
        "colab": {
          "base_uri": "https://localhost:8080/"
        }
      },
      "outputs": [
        {
          "output_type": "execute_result",
          "data": {
            "text/plain": [
              "(0.0019013015128786458, 0.0018728100567337528, 0.002748992366444652)"
            ]
          },
          "metadata": {},
          "execution_count": 26
        }
      ],
      "source": [
        "np.mean(train_std) , np.mean(train_std_rnd), np.mean(train_std_mlp) # for logistic regression, random forest and ANN"
      ]
    },
    {
      "cell_type": "code",
      "source": [
        "# For Test Dataset"
      ],
      "metadata": {
        "id": "IBkC_BAcpV7j"
      },
      "execution_count": null,
      "outputs": []
    },
    {
      "cell_type": "code",
      "execution_count": null,
      "metadata": {
        "id": "cGt2A3PYQDAf",
        "outputId": "51d2c8b1-5a3e-4c1e-b2e1-467a3f4bed71",
        "colab": {
          "base_uri": "https://localhost:8080/"
        }
      },
      "outputs": [
        {
          "output_type": "execute_result",
          "data": {
            "text/plain": [
              "(0.9451534430904596, 0.970177742034058, 0.95432480619362)"
            ]
          },
          "metadata": {},
          "execution_count": 28
        }
      ],
      "source": [
        "np.mean(test_mean) , np.mean(test_mean_rnd), np.mean(test_mean_mlp)  # for logistic regression, random forest and ANN"
      ]
    },
    {
      "cell_type": "code",
      "execution_count": null,
      "metadata": {
        "id": "9rOWQxHiQDAf",
        "outputId": "3611217d-8551-4b32-c973-5e7d824c5a2a",
        "colab": {
          "base_uri": "https://localhost:8080/"
        }
      },
      "outputs": [
        {
          "output_type": "execute_result",
          "data": {
            "text/plain": [
              "(0.03318828956269506, 0.018968929912806895, 0.026923883589396635)"
            ]
          },
          "metadata": {},
          "execution_count": 29
        }
      ],
      "source": [
        "np.mean(test_std) , np.mean(test_std_rnd), np.mean(test_std_mlp)  # for logistic regression, random forest and ANN"
      ]
    },
    {
      "cell_type": "markdown",
      "metadata": {
        "id": "iSQaJBxqQDAg"
      },
      "source": [
        "# Evaluation Metrics Calculations for Logisitic Regression"
      ]
    },
    {
      "cell_type": "code",
      "execution_count": null,
      "metadata": {
        "id": "IZHsvctfQDAg",
        "colab": {
          "base_uri": "https://localhost:8080/"
        },
        "outputId": "207354a0-343f-4fcc-e119-a3311190e178"
      },
      "outputs": [
        {
          "output_type": "stream",
          "name": "stderr",
          "text": [
            "/usr/local/lib/python3.7/dist-packages/sklearn/linear_model/_logistic.py:818: ConvergenceWarning: lbfgs failed to converge (status=1):\n",
            "STOP: TOTAL NO. of ITERATIONS REACHED LIMIT.\n",
            "\n",
            "Increase the number of iterations (max_iter) or scale the data as shown in:\n",
            "    https://scikit-learn.org/stable/modules/preprocessing.html\n",
            "Please also refer to the documentation for alternative solver options:\n",
            "    https://scikit-learn.org/stable/modules/linear_model.html#logistic-regression\n",
            "  extra_warning_msg=_LOGISTIC_SOLVER_CONVERGENCE_MSG,\n"
          ]
        }
      ],
      "source": [
        "pipe_lr = pipe_lr.fit(X_train, y_train)"
      ]
    },
    {
      "cell_type": "code",
      "execution_count": null,
      "metadata": {
        "id": "tTdrAa05QDAg"
      },
      "outputs": [],
      "source": [
        "y_pred_train = pipe_lr.predict(X_train)"
      ]
    },
    {
      "cell_type": "code",
      "execution_count": null,
      "metadata": {
        "id": "vrBc0MN0QDAg"
      },
      "outputs": [],
      "source": [
        "y_pred_test = pipe_lr.predict(X_test)"
      ]
    },
    {
      "cell_type": "code",
      "execution_count": null,
      "metadata": {
        "id": "0gb-GNLkQDAh"
      },
      "outputs": [],
      "source": [
        "from sklearn.metrics import accuracy_score"
      ]
    },
    {
      "cell_type": "code",
      "execution_count": null,
      "metadata": {
        "id": "XrX212FPQDAh",
        "outputId": "63dae019-e546-4d22-d4ab-e0021fdf5ac3",
        "colab": {
          "base_uri": "https://localhost:8080/"
        }
      },
      "outputs": [
        {
          "output_type": "execute_result",
          "data": {
            "text/plain": [
              "0.9885455662960273"
            ]
          },
          "metadata": {},
          "execution_count": 34
        }
      ],
      "source": [
        "accuracy_score(y_train, y_pred_train)"
      ]
    },
    {
      "cell_type": "code",
      "execution_count": null,
      "metadata": {
        "id": "N1dVUXLZQDAh",
        "outputId": "fb2ceac1-e6a7-496a-e749-7ebae2248622",
        "colab": {
          "base_uri": "https://localhost:8080/"
        }
      },
      "outputs": [
        {
          "output_type": "execute_result",
          "data": {
            "text/plain": [
              "0.9881406361312493"
            ]
          },
          "metadata": {},
          "execution_count": 35
        }
      ],
      "source": [
        "accuracy_score(y_test, y_pred_test)"
      ]
    },
    {
      "cell_type": "code",
      "execution_count": null,
      "metadata": {
        "id": "Pc1Ob3rdQDAi"
      },
      "outputs": [],
      "source": [
        "from sklearn.metrics import classification_report"
      ]
    },
    {
      "cell_type": "code",
      "execution_count": null,
      "metadata": {
        "id": "LJ9pcxGQQDAi"
      },
      "outputs": [],
      "source": [
        "target_names = ['Normal', 'DoSattack', 'scan', 'malitiousControl', 'malitiousOperation', 'spying', 'dataProbing', 'wrongSetUp']"
      ]
    },
    {
      "cell_type": "code",
      "execution_count": null,
      "metadata": {
        "id": "fPPw1v_0QDAi",
        "outputId": "dc15d9fa-268d-46bb-9c69-128aca43143c",
        "colab": {
          "base_uri": "https://localhost:8080/"
        }
      },
      "outputs": [
        {
          "output_type": "stream",
          "name": "stderr",
          "text": [
            "/usr/local/lib/python3.7/dist-packages/sklearn/metrics/_classification.py:1318: UndefinedMetricWarning: Precision and F-score are ill-defined and being set to 0.0 in labels with no predicted samples. Use `zero_division` parameter to control this behavior.\n",
            "  _warn_prf(average, modifier, msg_start, len(result))\n"
          ]
        },
        {
          "output_type": "stream",
          "name": "stdout",
          "text": [
            "                    precision    recall  f1-score   support\n",
            "\n",
            "            Normal       0.96      0.65      0.78      4602\n",
            "         DoSattack       1.00      0.59      0.74       279\n",
            "              scan       0.98      0.96      0.97       720\n",
            "  malitiousControl       0.97      0.48      0.64       650\n",
            "malitiousOperation       0.90      0.47      0.62      1242\n",
            "            spying       0.00      0.00      0.00       412\n",
            "       dataProbing       0.90      1.00      0.95        94\n",
            "        wrongSetUp       0.99      1.00      0.99    278353\n",
            "\n",
            "          accuracy                           0.99    286352\n",
            "         macro avg       0.84      0.64      0.71    286352\n",
            "      weighted avg       0.99      0.99      0.99    286352\n",
            "\n"
          ]
        },
        {
          "output_type": "stream",
          "name": "stderr",
          "text": [
            "/usr/local/lib/python3.7/dist-packages/sklearn/metrics/_classification.py:1318: UndefinedMetricWarning: Precision and F-score are ill-defined and being set to 0.0 in labels with no predicted samples. Use `zero_division` parameter to control this behavior.\n",
            "  _warn_prf(average, modifier, msg_start, len(result))\n",
            "/usr/local/lib/python3.7/dist-packages/sklearn/metrics/_classification.py:1318: UndefinedMetricWarning: Precision and F-score are ill-defined and being set to 0.0 in labels with no predicted samples. Use `zero_division` parameter to control this behavior.\n",
            "  _warn_prf(average, modifier, msg_start, len(result))\n"
          ]
        }
      ],
      "source": [
        "print(classification_report(y_train, y_pred_train, target_names=target_names))"
      ]
    },
    {
      "cell_type": "code",
      "execution_count": null,
      "metadata": {
        "id": "r_tc0AoTQDAi",
        "outputId": "0a480f5c-23c1-4994-b99a-222ea1fd4c1a",
        "colab": {
          "base_uri": "https://localhost:8080/"
        }
      },
      "outputs": [
        {
          "output_type": "stream",
          "name": "stderr",
          "text": [
            "/usr/local/lib/python3.7/dist-packages/sklearn/metrics/_classification.py:1318: UndefinedMetricWarning: Precision and F-score are ill-defined and being set to 0.0 in labels with no predicted samples. Use `zero_division` parameter to control this behavior.\n",
            "  _warn_prf(average, modifier, msg_start, len(result))\n"
          ]
        },
        {
          "output_type": "stream",
          "name": "stdout",
          "text": [
            "                    precision    recall  f1-score   support\n",
            "\n",
            "            Normal       0.95      0.66      0.78      1178\n",
            "         DoSattack       1.00      0.57      0.73        63\n",
            "              scan       0.98      0.97      0.98       169\n",
            "  malitiousControl       0.99      0.50      0.67       155\n",
            "malitiousOperation       0.88      0.41      0.56       305\n",
            "            spying       0.00      0.00      0.00       120\n",
            "       dataProbing       0.93      1.00      0.97        28\n",
            "        wrongSetUp       0.99      1.00      0.99     69571\n",
            "\n",
            "          accuracy                           0.99     71589\n",
            "         macro avg       0.84      0.64      0.71     71589\n",
            "      weighted avg       0.99      0.99      0.99     71589\n",
            "\n"
          ]
        },
        {
          "output_type": "stream",
          "name": "stderr",
          "text": [
            "/usr/local/lib/python3.7/dist-packages/sklearn/metrics/_classification.py:1318: UndefinedMetricWarning: Precision and F-score are ill-defined and being set to 0.0 in labels with no predicted samples. Use `zero_division` parameter to control this behavior.\n",
            "  _warn_prf(average, modifier, msg_start, len(result))\n",
            "/usr/local/lib/python3.7/dist-packages/sklearn/metrics/_classification.py:1318: UndefinedMetricWarning: Precision and F-score are ill-defined and being set to 0.0 in labels with no predicted samples. Use `zero_division` parameter to control this behavior.\n",
            "  _warn_prf(average, modifier, msg_start, len(result))\n"
          ]
        }
      ],
      "source": [
        "print(classification_report(y_test, y_pred_test, target_names=target_names))"
      ]
    },
    {
      "cell_type": "code",
      "execution_count": null,
      "metadata": {
        "id": "9-aA2hzoQDAi"
      },
      "outputs": [],
      "source": [
        "from sklearn.metrics import confusion_matrix\n",
        "import itertools"
      ]
    },
    {
      "cell_type": "code",
      "execution_count": null,
      "metadata": {
        "id": "2rkJOPfqQDAi"
      },
      "outputs": [],
      "source": [
        "cnf_matrix = confusion_matrix(y_test, y_pred_test)"
      ]
    },
    {
      "cell_type": "code",
      "execution_count": null,
      "metadata": {
        "id": "h0Z_HNQpQDAi",
        "outputId": "429602cf-43d9-48f8-f816-2a19519f0536",
        "colab": {
          "base_uri": "https://localhost:8080/"
        }
      },
      "outputs": [
        {
          "output_type": "stream",
          "name": "stdout",
          "text": [
            "775 0 0 0 0 0 0 403 \n",
            "0 36 0 0 0 0 0 27 \n",
            "0 0 164 0 0 0 0 5 \n",
            "0 0 0 78 0 0 0 77 \n",
            "5 0 2 0 126 0 2 170 \n",
            "0 0 0 0 16 0 0 104 \n",
            "0 0 0 0 0 0 28 0 \n",
            "34 0 1 1 2 0 0 69533 \n"
          ]
        }
      ],
      "source": [
        "for i in cnf_matrix:\n",
        "    for j in i:\n",
        "        print(j, end=' ')\n",
        "    print()"
      ]
    },
    {
      "cell_type": "markdown",
      "metadata": {
        "id": "-m_0xCFKQDAk"
      },
      "source": [
        "# Evaluation Metrics Calculations for Random Forest"
      ]
    },
    {
      "cell_type": "code",
      "execution_count": null,
      "metadata": {
        "id": "TIC60ZVBQDAk"
      },
      "outputs": [],
      "source": [
        "pipe_rnd = pipe_rnd.fit(X_train, y_train)\n",
        "y_pred_train = pipe_rnd.predict(X_train)\n",
        "y_pred_test = pipe_rnd.predict(X_test)"
      ]
    },
    {
      "cell_type": "code",
      "execution_count": null,
      "metadata": {
        "id": "njnaFFv5QDAk"
      },
      "outputs": [],
      "source": [
        "y_pred_train = pipe_rnd.predict(X_train)\n",
        "y_pred_test = pipe_rnd.predict(X_test)"
      ]
    },
    {
      "cell_type": "code",
      "execution_count": null,
      "metadata": {
        "id": "crCIkJF2QDAk",
        "outputId": "7c8a5bd4-0ea9-4c84-8618-19de2b4f111e",
        "colab": {
          "base_uri": "https://localhost:8080/"
        }
      },
      "outputs": [
        {
          "output_type": "execute_result",
          "data": {
            "text/plain": [
              "(0.9942413532994356, 0.994091271005322)"
            ]
          },
          "metadata": {},
          "execution_count": 45
        }
      ],
      "source": [
        "accuracy_score(y_train, y_pred_train), accuracy_score(y_test, y_pred_test)"
      ]
    },
    {
      "cell_type": "code",
      "execution_count": null,
      "metadata": {
        "id": "ZHgsody4QDAl",
        "outputId": "952ef3b2-6b5e-4d0d-e9b6-725940f4e146",
        "colab": {
          "base_uri": "https://localhost:8080/"
        }
      },
      "outputs": [
        {
          "output_type": "stream",
          "name": "stdout",
          "text": [
            "                    precision    recall  f1-score   support\n",
            "\n",
            "            Normal       0.98      0.65      0.78      4602\n",
            "         DoSattack       1.00      1.00      1.00       279\n",
            "              scan       1.00      1.00      1.00       720\n",
            "  malitiousControl       1.00      1.00      1.00       650\n",
            "malitiousOperation       1.00      1.00      1.00      1242\n",
            "            spying       1.00      1.00      1.00       412\n",
            "       dataProbing       1.00      1.00      1.00        94\n",
            "        wrongSetUp       0.99      1.00      1.00    278353\n",
            "\n",
            "          accuracy                           0.99    286352\n",
            "         macro avg       1.00      0.96      0.97    286352\n",
            "      weighted avg       0.99      0.99      0.99    286352\n",
            "\n"
          ]
        }
      ],
      "source": [
        "print(classification_report(y_train, y_pred_train, target_names=target_names))"
      ]
    },
    {
      "cell_type": "code",
      "execution_count": null,
      "metadata": {
        "id": "110LY68zQDAl",
        "outputId": "ddcaf96d-6374-4925-9dfe-b9abd4081401",
        "colab": {
          "base_uri": "https://localhost:8080/"
        }
      },
      "outputs": [
        {
          "output_type": "stream",
          "name": "stdout",
          "text": [
            "                    precision    recall  f1-score   support\n",
            "\n",
            "            Normal       0.98      0.66      0.79      1178\n",
            "         DoSattack       1.00      1.00      1.00        63\n",
            "              scan       1.00      1.00      1.00       169\n",
            "  malitiousControl       1.00      1.00      1.00       155\n",
            "malitiousOperation       0.99      1.00      1.00       305\n",
            "            spying       1.00      1.00      1.00       120\n",
            "       dataProbing       1.00      1.00      1.00        28\n",
            "        wrongSetUp       0.99      1.00      1.00     69571\n",
            "\n",
            "          accuracy                           0.99     71589\n",
            "         macro avg       1.00      0.96      0.97     71589\n",
            "      weighted avg       0.99      0.99      0.99     71589\n",
            "\n"
          ]
        }
      ],
      "source": [
        "print(classification_report(y_test, y_pred_test, target_names=target_names))"
      ]
    },
    {
      "cell_type": "code",
      "execution_count": null,
      "metadata": {
        "id": "jzbGw8oVQDAl",
        "outputId": "3352f955-66d1-4eed-9398-e2411c0db075",
        "colab": {
          "base_uri": "https://localhost:8080/"
        }
      },
      "outputs": [
        {
          "output_type": "stream",
          "name": "stdout",
          "text": [
            "775 0 0 0 0 0 0 403 \n",
            "0 63 0 0 0 0 0 0 \n",
            "0 0 169 0 0 0 0 0 \n",
            "0 0 0 155 0 0 0 0 \n",
            "0 0 0 0 305 0 0 0 \n",
            "0 0 0 0 0 120 0 0 \n",
            "0 0 0 0 0 0 28 0 \n",
            "18 0 0 0 2 0 0 69551 \n"
          ]
        }
      ],
      "source": [
        "cnf_matrix = confusion_matrix(y_test, y_pred_test)\n",
        "for i in cnf_matrix:\n",
        "    for j in i:\n",
        "        print(j, end=' ')\n",
        "    print()"
      ]
    },
    {
      "cell_type": "markdown",
      "metadata": {
        "id": "rmbLLbvRQDAl"
      },
      "source": [
        "# Evaluation Metrics Calculations for ANN"
      ]
    },
    {
      "cell_type": "code",
      "execution_count": null,
      "metadata": {
        "id": "bCkWuo2SQDAl",
        "outputId": "e3d8f626-2157-4465-e3e5-0d207554ad95",
        "colab": {
          "base_uri": "https://localhost:8080/"
        }
      },
      "outputs": [
        {
          "output_type": "stream",
          "name": "stdout",
          "text": [
            "Iteration 1, loss = 0.05584959\n",
            "Iteration 2, loss = 0.02541104\n",
            "Iteration 3, loss = 0.01882284\n",
            "Iteration 4, loss = 0.01670067\n",
            "Iteration 5, loss = 0.01501241\n",
            "Iteration 6, loss = 0.01462482\n",
            "Iteration 7, loss = 0.01410045\n",
            "Iteration 8, loss = 0.01378341\n",
            "Iteration 9, loss = 0.01346050\n",
            "Iteration 10, loss = 0.01328968\n"
          ]
        },
        {
          "output_type": "stream",
          "name": "stderr",
          "text": [
            "/usr/local/lib/python3.7/dist-packages/sklearn/neural_network/_multilayer_perceptron.py:696: ConvergenceWarning: Stochastic Optimizer: Maximum iterations (10) reached and the optimization hasn't converged yet.\n",
            "  ConvergenceWarning,\n"
          ]
        }
      ],
      "source": [
        "pipe_mlp = pipe_mlp.fit(X_train, y_train)\n",
        "y_pred_train = pipe_mlp.predict(X_train)\n",
        "y_pred_test = pipe_mlp.predict(X_test)"
      ]
    },
    {
      "cell_type": "code",
      "execution_count": null,
      "metadata": {
        "id": "VE3Di6vUQDAl",
        "outputId": "edee5ce6-3225-4186-cd74-e383f95fec6d",
        "colab": {
          "base_uri": "https://localhost:8080/"
        }
      },
      "outputs": [
        {
          "output_type": "execute_result",
          "data": {
            "text/plain": [
              "(0.9942273844778454, 0.994077302378857)"
            ]
          },
          "metadata": {},
          "execution_count": 50
        }
      ],
      "source": [
        "accuracy_score(y_train, y_pred_train), accuracy_score(y_test, y_pred_test)"
      ]
    },
    {
      "cell_type": "code",
      "execution_count": null,
      "metadata": {
        "id": "nFGpVZ_qQDAl",
        "outputId": "b881fa42-920b-43f5-e924-93a90d5cbda5",
        "colab": {
          "base_uri": "https://localhost:8080/"
        }
      },
      "outputs": [
        {
          "output_type": "stream",
          "name": "stdout",
          "text": [
            "                    precision    recall  f1-score   support\n",
            "\n",
            "            Normal       0.98      0.65      0.78      4602\n",
            "         DoSattack       1.00      1.00      1.00       279\n",
            "              scan       1.00      1.00      1.00       720\n",
            "  malitiousControl       1.00      1.00      1.00       650\n",
            "malitiousOperation       1.00      1.00      1.00      1242\n",
            "            spying       1.00      1.00      1.00       412\n",
            "       dataProbing       1.00      1.00      1.00        94\n",
            "        wrongSetUp       0.99      1.00      1.00    278353\n",
            "\n",
            "          accuracy                           0.99    286352\n",
            "         macro avg       1.00      0.96      0.97    286352\n",
            "      weighted avg       0.99      0.99      0.99    286352\n",
            "\n"
          ]
        }
      ],
      "source": [
        "print(classification_report(y_train, y_pred_train, target_names=target_names))"
      ]
    },
    {
      "cell_type": "code",
      "execution_count": null,
      "metadata": {
        "id": "rgwnWf1uQDAl"
      },
      "outputs": [],
      "source": [
        "import pickle\n",
        "pickle.dump(pipe_mlp,open('MLP.sav', 'wb'))"
      ]
    },
    {
      "cell_type": "code",
      "execution_count": null,
      "metadata": {
        "id": "ADmt6ocdQDAm",
        "outputId": "b560a2a4-7f66-4c6f-9714-c91fe0ea1785",
        "colab": {
          "base_uri": "https://localhost:8080/"
        }
      },
      "outputs": [
        {
          "output_type": "stream",
          "name": "stdout",
          "text": [
            "                    precision    recall  f1-score   support\n",
            "\n",
            "            Normal       0.98      0.66      0.79      1178\n",
            "         DoSattack       1.00      1.00      1.00        63\n",
            "              scan       0.99      1.00      1.00       169\n",
            "  malitiousControl       1.00      1.00      1.00       155\n",
            "malitiousOperation       1.00      1.00      1.00       305\n",
            "            spying       0.98      1.00      0.99       120\n",
            "       dataProbing       1.00      1.00      1.00        28\n",
            "        wrongSetUp       0.99      1.00      1.00     69571\n",
            "\n",
            "          accuracy                           0.99     71589\n",
            "         macro avg       0.99      0.96      0.97     71589\n",
            "      weighted avg       0.99      0.99      0.99     71589\n",
            "\n"
          ]
        }
      ],
      "source": [
        "print(classification_report(y_test, y_pred_test, target_names=target_names))"
      ]
    },
    {
      "cell_type": "code",
      "source": [
        "from sklearn.metrics import confusion_matrix\n",
        "import itertools"
      ],
      "metadata": {
        "id": "0_iY3Tw5yY3X"
      },
      "execution_count": null,
      "outputs": []
    },
    {
      "cell_type": "code",
      "source": [
        "cnf_matrix = confusion_matrix(y_test, y_pred_test)"
      ],
      "metadata": {
        "id": "M9H4WdTUyb29"
      },
      "execution_count": null,
      "outputs": []
    },
    {
      "cell_type": "code",
      "source": [
        "cnf_matrix"
      ],
      "metadata": {
        "colab": {
          "base_uri": "https://localhost:8080/"
        },
        "id": "PiGMC_hfye0X",
        "outputId": "bb88fd57-1dc1-4e97-9e87-c8c9411da976"
      },
      "execution_count": null,
      "outputs": [
        {
          "output_type": "execute_result",
          "data": {
            "text/plain": [
              "array([[  775,     0,     0,     0,     0,     0,     0,   403],\n",
              "       [    0,    63,     0,     0,     0,     0,     0,     0],\n",
              "       [    0,     0,   169,     0,     0,     0,     0,     0],\n",
              "       [    0,     0,     0,   155,     0,     0,     0,     0],\n",
              "       [    0,     0,     0,     0,   305,     0,     0,     0],\n",
              "       [    0,     0,     0,     0,     0,   120,     0,     0],\n",
              "       [    0,     0,     0,     0,     0,     0,    28,     0],\n",
              "       [   18,     0,     1,     0,     0,     2,     0, 69550]])"
            ]
          },
          "metadata": {},
          "execution_count": 56
        }
      ]
    },
    {
      "cell_type": "code",
      "source": [
        "for i in cnf_matrix:\n",
        "    for j in i:\n",
        "        print(j, end=' ')\n",
        "    print()"
      ],
      "metadata": {
        "colab": {
          "base_uri": "https://localhost:8080/"
        },
        "id": "ieo44_2Uyg5f",
        "outputId": "7d823383-6c0c-494b-9baa-2c062fcf6839"
      },
      "execution_count": null,
      "outputs": [
        {
          "output_type": "stream",
          "name": "stdout",
          "text": [
            "775 0 0 0 0 0 0 403 \n",
            "0 63 0 0 0 0 0 0 \n",
            "0 0 169 0 0 0 0 0 \n",
            "0 0 0 155 0 0 0 0 \n",
            "0 0 0 0 305 0 0 0 \n",
            "0 0 0 0 0 120 0 0 \n",
            "0 0 0 0 0 0 28 0 \n",
            "18 0 1 0 0 2 0 69550 \n"
          ]
        }
      ]
    },
    {
      "cell_type": "code",
      "source": [
        ""
      ],
      "metadata": {
        "id": "OjN7xSJjyjjq"
      },
      "execution_count": null,
      "outputs": []
    }
  ],
  "metadata": {
    "kernelspec": {
      "display_name": "Python 3",
      "language": "python",
      "name": "python3"
    },
    "language_info": {
      "codemirror_mode": {
        "name": "ipython",
        "version": 3
      },
      "file_extension": ".py",
      "mimetype": "text/x-python",
      "name": "python",
      "nbconvert_exporter": "python",
      "pygments_lexer": "ipython3",
      "version": "3.6.8"
    },
    "colab": {
      "name": "Result_Analysis.ipynb",
      "provenance": [],
      "collapsed_sections": []
    },
    "accelerator": "GPU"
  },
  "nbformat": 4,
  "nbformat_minor": 0
}