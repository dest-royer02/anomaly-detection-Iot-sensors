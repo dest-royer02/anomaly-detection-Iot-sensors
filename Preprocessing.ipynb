{
  "nbformat": 4,
  "nbformat_minor": 0,
  "metadata": {
    "colab": {
      "name": "Preprocessing.ipynb",
      "provenance": [],
      "collapsed_sections": []
    },
    "language_info": {
      "codemirror_mode": {
        "name": "ipython",
        "version": 3
      },
      "file_extension": ".py",
      "mimetype": "text/x-python",
      "name": "python",
      "nbconvert_exporter": "python",
      "pygments_lexer": "ipython3",
      "version": "3.6.6"
    },
    "kernelspec": {
      "display_name": "Python 3",
      "language": "python",
      "name": "python3"
    }
  },
  "cells": [
    {
      "metadata": {
        "id": "4EZosjXbquIb"
      },
      "cell_type": "markdown",
      "source": [
        "# Data Cleaning"
      ]
    },
    {
      "metadata": {
        "id": "n-oLiHtFquIe",
        "colab": {
          "base_uri": "https://localhost:8080/"
        },
        "outputId": "d1ad8c0f-c129-4c78-cf2f-e7c1d6b0de79"
      },
      "cell_type": "code",
      "source": [
        "import pandas as pd\n",
        "from google.colab import drive\n",
        "drive.mount('/content/drive')\n"
      ],
      "execution_count": null,
      "outputs": [
        {
          "output_type": "stream",
          "name": "stdout",
          "text": [
            "Drive already mounted at /content/drive; to attempt to forcibly remount, call drive.mount(\"/content/drive\", force_remount=True).\n"
          ]
        }
      ]
    },
    {
      "cell_type": "code",
      "source": [
        "df_data_1 = pd.read_csv(\"/content/drive/MyDrive/Explo_Dataset/main_data.csv\")"
      ],
      "metadata": {
        "id": "np0d7qoq_j6-"
      },
      "execution_count": null,
      "outputs": []
    },
    {
      "metadata": {
        "id": "MqSZBL3kquIu"
      },
      "cell_type": "markdown",
      "source": [
        "# Missing Value"
      ]
    },
    {
      "cell_type": "code",
      "source": [
        "import numpy as np"
      ],
      "metadata": {
        "id": "AM4ndR1P_7OK"
      },
      "execution_count": null,
      "outputs": []
    },
    {
      "cell_type": "code",
      "source": [
        "df_data_1.head()"
      ],
      "metadata": {
        "colab": {
          "base_uri": "https://localhost:8080/",
          "height": 270
        },
        "id": "Gjz-tXoL_98a",
        "outputId": "ad0ff56b-eca8-41ff-c4b3-36d4ab5c362e"
      },
      "execution_count": null,
      "outputs": [
        {
          "output_type": "execute_result",
          "data": {
            "text/plain": [
              "        sourceID          sourceAddress       sourceType   sourceLocation  \\\n",
              "0  lightcontrol2  /agent2/lightcontrol2  /lightControler   BedroomParents   \n",
              "1  lightcontrol3  /agent3/lightcontrol3  /lightControler      Dinningroom   \n",
              "2  lightcontrol1  /agent1/lightcontrol1  /lightControler  BedroomChildren   \n",
              "3  lightcontrol4  /agent4/lightcontrol4  /lightControler          Kitchen   \n",
              "4      movement4      /agent4/movement4  /movementSensor          Kitchen   \n",
              "\n",
              "  destinationServiceAddress destinationServiceType destinationLocation  \\\n",
              "0     /agent2/lightcontrol2        /lightControler      BedroomParents   \n",
              "1     /agent3/lightcontrol3        /lightControler         Dinningroom   \n",
              "2     /agent1/lightcontrol1        /lightControler     BedroomChildren   \n",
              "3     /agent4/lightcontrol4        /lightControler             Kitchen   \n",
              "4         /agent4/movement4        /movementSensor             Kitchen   \n",
              "\n",
              "     accessedNodeAddress accessedNodeType        operation value  \\\n",
              "0  /agent2/lightcontrol2  /lightControler  registerService  none   \n",
              "1  /agent3/lightcontrol3  /lightControler  registerService  none   \n",
              "2  /agent1/lightcontrol1  /lightControler  registerService  none   \n",
              "3  /agent4/lightcontrol4  /lightControler  registerService  none   \n",
              "4      /agent4/movement4  /movementSensor  registerService  none   \n",
              "\n",
              "       timestamp normality  \n",
              "0  1520031600000    normal  \n",
              "1  1520031603269    normal  \n",
              "2  1520031603279    normal  \n",
              "3  1520031603290    normal  \n",
              "4  1520031603464    normal  "
            ],
            "text/html": [
              "\n",
              "  <div id=\"df-adbcea9c-1282-4e1d-853b-b65c172e985f\">\n",
              "    <div class=\"colab-df-container\">\n",
              "      <div>\n",
              "<style scoped>\n",
              "    .dataframe tbody tr th:only-of-type {\n",
              "        vertical-align: middle;\n",
              "    }\n",
              "\n",
              "    .dataframe tbody tr th {\n",
              "        vertical-align: top;\n",
              "    }\n",
              "\n",
              "    .dataframe thead th {\n",
              "        text-align: right;\n",
              "    }\n",
              "</style>\n",
              "<table border=\"1\" class=\"dataframe\">\n",
              "  <thead>\n",
              "    <tr style=\"text-align: right;\">\n",
              "      <th></th>\n",
              "      <th>sourceID</th>\n",
              "      <th>sourceAddress</th>\n",
              "      <th>sourceType</th>\n",
              "      <th>sourceLocation</th>\n",
              "      <th>destinationServiceAddress</th>\n",
              "      <th>destinationServiceType</th>\n",
              "      <th>destinationLocation</th>\n",
              "      <th>accessedNodeAddress</th>\n",
              "      <th>accessedNodeType</th>\n",
              "      <th>operation</th>\n",
              "      <th>value</th>\n",
              "      <th>timestamp</th>\n",
              "      <th>normality</th>\n",
              "    </tr>\n",
              "  </thead>\n",
              "  <tbody>\n",
              "    <tr>\n",
              "      <th>0</th>\n",
              "      <td>lightcontrol2</td>\n",
              "      <td>/agent2/lightcontrol2</td>\n",
              "      <td>/lightControler</td>\n",
              "      <td>BedroomParents</td>\n",
              "      <td>/agent2/lightcontrol2</td>\n",
              "      <td>/lightControler</td>\n",
              "      <td>BedroomParents</td>\n",
              "      <td>/agent2/lightcontrol2</td>\n",
              "      <td>/lightControler</td>\n",
              "      <td>registerService</td>\n",
              "      <td>none</td>\n",
              "      <td>1520031600000</td>\n",
              "      <td>normal</td>\n",
              "    </tr>\n",
              "    <tr>\n",
              "      <th>1</th>\n",
              "      <td>lightcontrol3</td>\n",
              "      <td>/agent3/lightcontrol3</td>\n",
              "      <td>/lightControler</td>\n",
              "      <td>Dinningroom</td>\n",
              "      <td>/agent3/lightcontrol3</td>\n",
              "      <td>/lightControler</td>\n",
              "      <td>Dinningroom</td>\n",
              "      <td>/agent3/lightcontrol3</td>\n",
              "      <td>/lightControler</td>\n",
              "      <td>registerService</td>\n",
              "      <td>none</td>\n",
              "      <td>1520031603269</td>\n",
              "      <td>normal</td>\n",
              "    </tr>\n",
              "    <tr>\n",
              "      <th>2</th>\n",
              "      <td>lightcontrol1</td>\n",
              "      <td>/agent1/lightcontrol1</td>\n",
              "      <td>/lightControler</td>\n",
              "      <td>BedroomChildren</td>\n",
              "      <td>/agent1/lightcontrol1</td>\n",
              "      <td>/lightControler</td>\n",
              "      <td>BedroomChildren</td>\n",
              "      <td>/agent1/lightcontrol1</td>\n",
              "      <td>/lightControler</td>\n",
              "      <td>registerService</td>\n",
              "      <td>none</td>\n",
              "      <td>1520031603279</td>\n",
              "      <td>normal</td>\n",
              "    </tr>\n",
              "    <tr>\n",
              "      <th>3</th>\n",
              "      <td>lightcontrol4</td>\n",
              "      <td>/agent4/lightcontrol4</td>\n",
              "      <td>/lightControler</td>\n",
              "      <td>Kitchen</td>\n",
              "      <td>/agent4/lightcontrol4</td>\n",
              "      <td>/lightControler</td>\n",
              "      <td>Kitchen</td>\n",
              "      <td>/agent4/lightcontrol4</td>\n",
              "      <td>/lightControler</td>\n",
              "      <td>registerService</td>\n",
              "      <td>none</td>\n",
              "      <td>1520031603290</td>\n",
              "      <td>normal</td>\n",
              "    </tr>\n",
              "    <tr>\n",
              "      <th>4</th>\n",
              "      <td>movement4</td>\n",
              "      <td>/agent4/movement4</td>\n",
              "      <td>/movementSensor</td>\n",
              "      <td>Kitchen</td>\n",
              "      <td>/agent4/movement4</td>\n",
              "      <td>/movementSensor</td>\n",
              "      <td>Kitchen</td>\n",
              "      <td>/agent4/movement4</td>\n",
              "      <td>/movementSensor</td>\n",
              "      <td>registerService</td>\n",
              "      <td>none</td>\n",
              "      <td>1520031603464</td>\n",
              "      <td>normal</td>\n",
              "    </tr>\n",
              "  </tbody>\n",
              "</table>\n",
              "</div>\n",
              "      <button class=\"colab-df-convert\" onclick=\"convertToInteractive('df-adbcea9c-1282-4e1d-853b-b65c172e985f')\"\n",
              "              title=\"Convert this dataframe to an interactive table.\"\n",
              "              style=\"display:none;\">\n",
              "        \n",
              "  <svg xmlns=\"http://www.w3.org/2000/svg\" height=\"24px\"viewBox=\"0 0 24 24\"\n",
              "       width=\"24px\">\n",
              "    <path d=\"M0 0h24v24H0V0z\" fill=\"none\"/>\n",
              "    <path d=\"M18.56 5.44l.94 2.06.94-2.06 2.06-.94-2.06-.94-.94-2.06-.94 2.06-2.06.94zm-11 1L8.5 8.5l.94-2.06 2.06-.94-2.06-.94L8.5 2.5l-.94 2.06-2.06.94zm10 10l.94 2.06.94-2.06 2.06-.94-2.06-.94-.94-2.06-.94 2.06-2.06.94z\"/><path d=\"M17.41 7.96l-1.37-1.37c-.4-.4-.92-.59-1.43-.59-.52 0-1.04.2-1.43.59L10.3 9.45l-7.72 7.72c-.78.78-.78 2.05 0 2.83L4 21.41c.39.39.9.59 1.41.59.51 0 1.02-.2 1.41-.59l7.78-7.78 2.81-2.81c.8-.78.8-2.07 0-2.86zM5.41 20L4 18.59l7.72-7.72 1.47 1.35L5.41 20z\"/>\n",
              "  </svg>\n",
              "      </button>\n",
              "      \n",
              "  <style>\n",
              "    .colab-df-container {\n",
              "      display:flex;\n",
              "      flex-wrap:wrap;\n",
              "      gap: 12px;\n",
              "    }\n",
              "\n",
              "    .colab-df-convert {\n",
              "      background-color: #E8F0FE;\n",
              "      border: none;\n",
              "      border-radius: 50%;\n",
              "      cursor: pointer;\n",
              "      display: none;\n",
              "      fill: #1967D2;\n",
              "      height: 32px;\n",
              "      padding: 0 0 0 0;\n",
              "      width: 32px;\n",
              "    }\n",
              "\n",
              "    .colab-df-convert:hover {\n",
              "      background-color: #E2EBFA;\n",
              "      box-shadow: 0px 1px 2px rgba(60, 64, 67, 0.3), 0px 1px 3px 1px rgba(60, 64, 67, 0.15);\n",
              "      fill: #174EA6;\n",
              "    }\n",
              "\n",
              "    [theme=dark] .colab-df-convert {\n",
              "      background-color: #3B4455;\n",
              "      fill: #D2E3FC;\n",
              "    }\n",
              "\n",
              "    [theme=dark] .colab-df-convert:hover {\n",
              "      background-color: #434B5C;\n",
              "      box-shadow: 0px 1px 3px 1px rgba(0, 0, 0, 0.15);\n",
              "      filter: drop-shadow(0px 1px 2px rgba(0, 0, 0, 0.3));\n",
              "      fill: #FFFFFF;\n",
              "    }\n",
              "  </style>\n",
              "\n",
              "      <script>\n",
              "        const buttonEl =\n",
              "          document.querySelector('#df-adbcea9c-1282-4e1d-853b-b65c172e985f button.colab-df-convert');\n",
              "        buttonEl.style.display =\n",
              "          google.colab.kernel.accessAllowed ? 'block' : 'none';\n",
              "\n",
              "        async function convertToInteractive(key) {\n",
              "          const element = document.querySelector('#df-adbcea9c-1282-4e1d-853b-b65c172e985f');\n",
              "          const dataTable =\n",
              "            await google.colab.kernel.invokeFunction('convertToInteractive',\n",
              "                                                     [key], {});\n",
              "          if (!dataTable) return;\n",
              "\n",
              "          const docLinkHtml = 'Like what you see? Visit the ' +\n",
              "            '<a target=\"_blank\" href=https://colab.research.google.com/notebooks/data_table.ipynb>data table notebook</a>'\n",
              "            + ' to learn more about interactive tables.';\n",
              "          element.innerHTML = '';\n",
              "          dataTable['output_type'] = 'display_data';\n",
              "          await google.colab.output.renderOutput(dataTable, element);\n",
              "          const docLink = document.createElement('div');\n",
              "          docLink.innerHTML = docLinkHtml;\n",
              "          element.appendChild(docLink);\n",
              "        }\n",
              "      </script>\n",
              "    </div>\n",
              "  </div>\n",
              "  "
            ]
          },
          "metadata": {},
          "execution_count": 88
        }
      ]
    },
    {
      "metadata": {
        "id": "2zENdqxOquIv"
      },
      "cell_type": "code",
      "source": [
        "df_data_1.isnull().sum()\n",
        "df_data_1['accessedNodeType'] = df_data_1['accessedNodeType'].fillna(value='/Malicious')"
      ],
      "execution_count": null,
      "outputs": []
    },
    {
      "metadata": {
        "id": "-JaJpoVYquI2"
      },
      "cell_type": "markdown",
      "source": [
        "# Unexpected Values"
      ]
    },
    {
      "metadata": {
        "id": "mnGBFPBFquI3"
      },
      "cell_type": "code",
      "source": [
        "df_data_1.loc[df_data_1.value=='twenty',\"value\"] = '20.0'\n",
        "df_data_1.loc[df_data_1.value=='false',\"value\"] = '0'\n",
        "df_data_1.loc[df_data_1.value=='true',\"value\"] = '1'\n",
        "df_data_1.loc[df_data_1.value=='none',\"value\"] = '0'\n",
        "df_data_1.loc[df_data_1.value=='0',\"value\"] = '0.0'\n",
        "df_data_1['value'] = df_data_1['value'].fillna(value='60.0')\n",
        "df_data_1 = df_data_1.drop(df_data_1.index[df_data_1.value.str.contains(\"org.*\")])\n",
        "df_data_1.value = df_data_1.value.astype(float)"
      ],
      "execution_count": null,
      "outputs": []
    },
    {
      "metadata": {
        "id": "21Yc8nTMquI6"
      },
      "cell_type": "markdown",
      "source": [
        "# Cleaned Data"
      ]
    },
    {
      "metadata": {
        "id": "pAZ4A4DBquI7",
        "outputId": "42f1a739-8afa-407e-8b76-d5e98867c9f8",
        "colab": {
          "base_uri": "https://localhost:8080/",
          "height": 270
        }
      },
      "cell_type": "code",
      "source": [
        "df_data_1.head()"
      ],
      "execution_count": null,
      "outputs": [
        {
          "output_type": "execute_result",
          "data": {
            "text/plain": [
              "        sourceID          sourceAddress       sourceType   sourceLocation  \\\n",
              "0  lightcontrol2  /agent2/lightcontrol2  /lightControler   BedroomParents   \n",
              "1  lightcontrol3  /agent3/lightcontrol3  /lightControler      Dinningroom   \n",
              "2  lightcontrol1  /agent1/lightcontrol1  /lightControler  BedroomChildren   \n",
              "3  lightcontrol4  /agent4/lightcontrol4  /lightControler          Kitchen   \n",
              "4      movement4      /agent4/movement4  /movementSensor          Kitchen   \n",
              "\n",
              "  destinationServiceAddress destinationServiceType destinationLocation  \\\n",
              "0     /agent2/lightcontrol2        /lightControler      BedroomParents   \n",
              "1     /agent3/lightcontrol3        /lightControler         Dinningroom   \n",
              "2     /agent1/lightcontrol1        /lightControler     BedroomChildren   \n",
              "3     /agent4/lightcontrol4        /lightControler             Kitchen   \n",
              "4         /agent4/movement4        /movementSensor             Kitchen   \n",
              "\n",
              "     accessedNodeAddress accessedNodeType        operation  value  \\\n",
              "0  /agent2/lightcontrol2  /lightControler  registerService    0.0   \n",
              "1  /agent3/lightcontrol3  /lightControler  registerService    0.0   \n",
              "2  /agent1/lightcontrol1  /lightControler  registerService    0.0   \n",
              "3  /agent4/lightcontrol4  /lightControler  registerService    0.0   \n",
              "4      /agent4/movement4  /movementSensor  registerService    0.0   \n",
              "\n",
              "       timestamp normality  \n",
              "0  1520031600000    normal  \n",
              "1  1520031603269    normal  \n",
              "2  1520031603279    normal  \n",
              "3  1520031603290    normal  \n",
              "4  1520031603464    normal  "
            ],
            "text/html": [
              "\n",
              "  <div id=\"df-7f9d5564-c226-4442-8893-171e1939a3bb\">\n",
              "    <div class=\"colab-df-container\">\n",
              "      <div>\n",
              "<style scoped>\n",
              "    .dataframe tbody tr th:only-of-type {\n",
              "        vertical-align: middle;\n",
              "    }\n",
              "\n",
              "    .dataframe tbody tr th {\n",
              "        vertical-align: top;\n",
              "    }\n",
              "\n",
              "    .dataframe thead th {\n",
              "        text-align: right;\n",
              "    }\n",
              "</style>\n",
              "<table border=\"1\" class=\"dataframe\">\n",
              "  <thead>\n",
              "    <tr style=\"text-align: right;\">\n",
              "      <th></th>\n",
              "      <th>sourceID</th>\n",
              "      <th>sourceAddress</th>\n",
              "      <th>sourceType</th>\n",
              "      <th>sourceLocation</th>\n",
              "      <th>destinationServiceAddress</th>\n",
              "      <th>destinationServiceType</th>\n",
              "      <th>destinationLocation</th>\n",
              "      <th>accessedNodeAddress</th>\n",
              "      <th>accessedNodeType</th>\n",
              "      <th>operation</th>\n",
              "      <th>value</th>\n",
              "      <th>timestamp</th>\n",
              "      <th>normality</th>\n",
              "    </tr>\n",
              "  </thead>\n",
              "  <tbody>\n",
              "    <tr>\n",
              "      <th>0</th>\n",
              "      <td>lightcontrol2</td>\n",
              "      <td>/agent2/lightcontrol2</td>\n",
              "      <td>/lightControler</td>\n",
              "      <td>BedroomParents</td>\n",
              "      <td>/agent2/lightcontrol2</td>\n",
              "      <td>/lightControler</td>\n",
              "      <td>BedroomParents</td>\n",
              "      <td>/agent2/lightcontrol2</td>\n",
              "      <td>/lightControler</td>\n",
              "      <td>registerService</td>\n",
              "      <td>0.0</td>\n",
              "      <td>1520031600000</td>\n",
              "      <td>normal</td>\n",
              "    </tr>\n",
              "    <tr>\n",
              "      <th>1</th>\n",
              "      <td>lightcontrol3</td>\n",
              "      <td>/agent3/lightcontrol3</td>\n",
              "      <td>/lightControler</td>\n",
              "      <td>Dinningroom</td>\n",
              "      <td>/agent3/lightcontrol3</td>\n",
              "      <td>/lightControler</td>\n",
              "      <td>Dinningroom</td>\n",
              "      <td>/agent3/lightcontrol3</td>\n",
              "      <td>/lightControler</td>\n",
              "      <td>registerService</td>\n",
              "      <td>0.0</td>\n",
              "      <td>1520031603269</td>\n",
              "      <td>normal</td>\n",
              "    </tr>\n",
              "    <tr>\n",
              "      <th>2</th>\n",
              "      <td>lightcontrol1</td>\n",
              "      <td>/agent1/lightcontrol1</td>\n",
              "      <td>/lightControler</td>\n",
              "      <td>BedroomChildren</td>\n",
              "      <td>/agent1/lightcontrol1</td>\n",
              "      <td>/lightControler</td>\n",
              "      <td>BedroomChildren</td>\n",
              "      <td>/agent1/lightcontrol1</td>\n",
              "      <td>/lightControler</td>\n",
              "      <td>registerService</td>\n",
              "      <td>0.0</td>\n",
              "      <td>1520031603279</td>\n",
              "      <td>normal</td>\n",
              "    </tr>\n",
              "    <tr>\n",
              "      <th>3</th>\n",
              "      <td>lightcontrol4</td>\n",
              "      <td>/agent4/lightcontrol4</td>\n",
              "      <td>/lightControler</td>\n",
              "      <td>Kitchen</td>\n",
              "      <td>/agent4/lightcontrol4</td>\n",
              "      <td>/lightControler</td>\n",
              "      <td>Kitchen</td>\n",
              "      <td>/agent4/lightcontrol4</td>\n",
              "      <td>/lightControler</td>\n",
              "      <td>registerService</td>\n",
              "      <td>0.0</td>\n",
              "      <td>1520031603290</td>\n",
              "      <td>normal</td>\n",
              "    </tr>\n",
              "    <tr>\n",
              "      <th>4</th>\n",
              "      <td>movement4</td>\n",
              "      <td>/agent4/movement4</td>\n",
              "      <td>/movementSensor</td>\n",
              "      <td>Kitchen</td>\n",
              "      <td>/agent4/movement4</td>\n",
              "      <td>/movementSensor</td>\n",
              "      <td>Kitchen</td>\n",
              "      <td>/agent4/movement4</td>\n",
              "      <td>/movementSensor</td>\n",
              "      <td>registerService</td>\n",
              "      <td>0.0</td>\n",
              "      <td>1520031603464</td>\n",
              "      <td>normal</td>\n",
              "    </tr>\n",
              "  </tbody>\n",
              "</table>\n",
              "</div>\n",
              "      <button class=\"colab-df-convert\" onclick=\"convertToInteractive('df-7f9d5564-c226-4442-8893-171e1939a3bb')\"\n",
              "              title=\"Convert this dataframe to an interactive table.\"\n",
              "              style=\"display:none;\">\n",
              "        \n",
              "  <svg xmlns=\"http://www.w3.org/2000/svg\" height=\"24px\"viewBox=\"0 0 24 24\"\n",
              "       width=\"24px\">\n",
              "    <path d=\"M0 0h24v24H0V0z\" fill=\"none\"/>\n",
              "    <path d=\"M18.56 5.44l.94 2.06.94-2.06 2.06-.94-2.06-.94-.94-2.06-.94 2.06-2.06.94zm-11 1L8.5 8.5l.94-2.06 2.06-.94-2.06-.94L8.5 2.5l-.94 2.06-2.06.94zm10 10l.94 2.06.94-2.06 2.06-.94-2.06-.94-.94-2.06-.94 2.06-2.06.94z\"/><path d=\"M17.41 7.96l-1.37-1.37c-.4-.4-.92-.59-1.43-.59-.52 0-1.04.2-1.43.59L10.3 9.45l-7.72 7.72c-.78.78-.78 2.05 0 2.83L4 21.41c.39.39.9.59 1.41.59.51 0 1.02-.2 1.41-.59l7.78-7.78 2.81-2.81c.8-.78.8-2.07 0-2.86zM5.41 20L4 18.59l7.72-7.72 1.47 1.35L5.41 20z\"/>\n",
              "  </svg>\n",
              "      </button>\n",
              "      \n",
              "  <style>\n",
              "    .colab-df-container {\n",
              "      display:flex;\n",
              "      flex-wrap:wrap;\n",
              "      gap: 12px;\n",
              "    }\n",
              "\n",
              "    .colab-df-convert {\n",
              "      background-color: #E8F0FE;\n",
              "      border: none;\n",
              "      border-radius: 50%;\n",
              "      cursor: pointer;\n",
              "      display: none;\n",
              "      fill: #1967D2;\n",
              "      height: 32px;\n",
              "      padding: 0 0 0 0;\n",
              "      width: 32px;\n",
              "    }\n",
              "\n",
              "    .colab-df-convert:hover {\n",
              "      background-color: #E2EBFA;\n",
              "      box-shadow: 0px 1px 2px rgba(60, 64, 67, 0.3), 0px 1px 3px 1px rgba(60, 64, 67, 0.15);\n",
              "      fill: #174EA6;\n",
              "    }\n",
              "\n",
              "    [theme=dark] .colab-df-convert {\n",
              "      background-color: #3B4455;\n",
              "      fill: #D2E3FC;\n",
              "    }\n",
              "\n",
              "    [theme=dark] .colab-df-convert:hover {\n",
              "      background-color: #434B5C;\n",
              "      box-shadow: 0px 1px 3px 1px rgba(0, 0, 0, 0.15);\n",
              "      filter: drop-shadow(0px 1px 2px rgba(0, 0, 0, 0.3));\n",
              "      fill: #FFFFFF;\n",
              "    }\n",
              "  </style>\n",
              "\n",
              "      <script>\n",
              "        const buttonEl =\n",
              "          document.querySelector('#df-7f9d5564-c226-4442-8893-171e1939a3bb button.colab-df-convert');\n",
              "        buttonEl.style.display =\n",
              "          google.colab.kernel.accessAllowed ? 'block' : 'none';\n",
              "\n",
              "        async function convertToInteractive(key) {\n",
              "          const element = document.querySelector('#df-7f9d5564-c226-4442-8893-171e1939a3bb');\n",
              "          const dataTable =\n",
              "            await google.colab.kernel.invokeFunction('convertToInteractive',\n",
              "                                                     [key], {});\n",
              "          if (!dataTable) return;\n",
              "\n",
              "          const docLinkHtml = 'Like what you see? Visit the ' +\n",
              "            '<a target=\"_blank\" href=https://colab.research.google.com/notebooks/data_table.ipynb>data table notebook</a>'\n",
              "            + ' to learn more about interactive tables.';\n",
              "          element.innerHTML = '';\n",
              "          dataTable['output_type'] = 'display_data';\n",
              "          await google.colab.output.renderOutput(dataTable, element);\n",
              "          const docLink = document.createElement('div');\n",
              "          docLink.innerHTML = docLinkHtml;\n",
              "          element.appendChild(docLink);\n",
              "        }\n",
              "      </script>\n",
              "    </div>\n",
              "  </div>\n",
              "  "
            ]
          },
          "metadata": {},
          "execution_count": 91
        }
      ]
    },
    {
      "metadata": {
        "id": "iKRqHaD7quJJ"
      },
      "cell_type": "markdown",
      "source": [
        "# Frequency Distribution Visualization"
      ]
    },
    {
      "metadata": {
        "id": "Eal9VIMDquJK"
      },
      "cell_type": "code",
      "source": [
        "import matplotlib.pyplot as plt\n",
        "import random\n",
        "import numpy as np"
      ],
      "execution_count": null,
      "outputs": []
    },
    {
      "metadata": {
        "id": "qNPs-A_PquJP",
        "outputId": "95813788-d93b-40d2-80f1-bcbcef4a2390",
        "colab": {
          "base_uri": "https://localhost:8080/",
          "height": 518
        }
      },
      "cell_type": "code",
      "source": [
        "source_loc_count = df_data_1.sourceLocation.value_counts()\n",
        "plt.figure(figsize=(7,6))\n",
        "ax=plt.subplot(111)\n",
        "plt.bar(source_loc_count.index, source_loc_count.values)\n",
        "plt.grid()\n",
        "plt.ylabel('Number of Occurrences', fontsize=20)\n",
        "plt.xlabel('Source Location', fontsize=20)\n",
        "plt.xticks(rotation=90,fontsize=15)\n",
        "plt.yticks(fontsize=15)\n",
        "plt.show()"
      ],
      "execution_count": null,
      "outputs": [
        {
          "output_type": "display_data",
          "data": {
            "text/plain": [
              "<Figure size 504x432 with 1 Axes>"
            ],
            "image/png": "[encoded data removed]"
          },
          "metadata": {
            "needs_background": "light"
          }
        }
      ]
    },
    {
      "metadata": {
        "id": "eQRbllLfquJU",
        "outputId": "287ce9b0-ddf2-4eeb-8f99-c78e82a57b56",
        "colab": {
          "base_uri": "https://localhost:8080/"
        }
      },
      "cell_type": "code",
      "source": [
        "for i,j in zip(source_loc_count.index,source_loc_count.values):\n",
        "    print(i,j)"
      ],
      "execution_count": null,
      "outputs": [
        {
          "output_type": "stream",
          "name": "stdout",
          "text": [
            "Garage 39499\n",
            "Watterroom 38368\n",
            "Entrance 38217\n",
            "Bathroom 28461\n",
            "Showerroom 28315\n",
            "Kitchen 18962\n",
            "Dinningroom 13429\n",
            "BedroomChildren 12836\n",
            "room_6 11642\n",
            "Bedroom 11009\n",
            "BedroomParents 10946\n",
            "room_8 10798\n",
            "room_9 10752\n",
            "Livingroom 10620\n",
            "room_2 10606\n",
            "room_1 10601\n",
            "room_3 10597\n",
            "room_5 10596\n",
            "room_4 10572\n",
            "room_7 10558\n",
            "room_10 10557\n"
          ]
        }
      ]
    },
    {
      "metadata": {
        "id": "teln0-boquJZ",
        "outputId": "424d35b3-e439-437c-d801-dd60c3ee1be4",
        "colab": {
          "base_uri": "https://localhost:8080/",
          "height": 525
        }
      },
      "cell_type": "code",
      "source": [
        "source_type_count = df_data_1.sourceType.value_counts()\n",
        "plt.figure(figsize=(7,6))\n",
        "ax=plt.subplot(111)\n",
        "plt.grid()\n",
        "plt.bar(source_type_count.index, source_type_count.values)\n",
        "plt.ylabel('Number of Occurrences', fontsize=20)\n",
        "plt.xlabel('Source Type', fontsize=20)\n",
        "plt.xticks(rotation=90, fontsize=15)\n",
        "plt.yticks(fontsize=15)\n",
        "plt.show()"
      ],
      "execution_count": null,
      "outputs": [
        {
          "output_type": "display_data",
          "data": {
            "text/plain": [
              "<Figure size 504x432 with 1 Axes>"
            ],
            "image/png": "[encoded data removed]"
          },
          "metadata": {
            "needs_background": "light"
          }
        }
      ]
    },
    {
      "metadata": {
        "id": "bX2q4-YDquJc",
        "outputId": "51e4d7b2-5e9e-4a20-b059-dfd713680b62",
        "colab": {
          "base_uri": "https://localhost:8080/"
        }
      },
      "cell_type": "code",
      "source": [
        "for i in source_type_count.index:\n",
        "    print(i)"
      ],
      "execution_count": null,
      "outputs": [
        {
          "output_type": "stream",
          "name": "stdout",
          "text": [
            "/lightControler\n",
            "/sensorService\n",
            "/batteryService\n",
            "/washingService\n",
            "/thermostat\n",
            "/movementSensor\n",
            "/doorLockService\n",
            "/smartPhone\n"
          ]
        }
      ]
    },
    {
      "metadata": {
        "id": "JVR0Rv8gquJi",
        "outputId": "9bb75a6d-511a-4954-d7f6-8028c25ccc5e",
        "colab": {
          "base_uri": "https://localhost:8080/"
        }
      },
      "cell_type": "code",
      "source": [
        "for i in source_type_count.values:\n",
        "    print(i)"
      ],
      "execution_count": null,
      "outputs": [
        {
          "output_type": "stream",
          "name": "stdout",
          "text": [
            "135775\n",
            "85196\n",
            "81267\n",
            "47986\n",
            "5980\n",
            "1301\n",
            "330\n",
            "106\n"
          ]
        }
      ]
    },
    {
      "metadata": {
        "id": "7flOdWvAquJm",
        "outputId": "0e05b406-ec5d-4e4e-80d7-11f0bdcd2751",
        "colab": {
          "base_uri": "https://localhost:8080/",
          "height": 525
        }
      },
      "cell_type": "code",
      "source": [
        "destination_type_count = df_data_1.destinationServiceType.value_counts()\n",
        "plt.figure(figsize=(7,6))\n",
        "ax=plt.subplot(111)\n",
        "plt.grid()\n",
        "plt.bar(destination_type_count.index, destination_type_count.values)\n",
        "plt.ylabel('Number of Occurrences', fontsize=20)\n",
        "plt.xlabel('Destination Service Type', fontsize=20)\n",
        "plt.xticks(rotation=90, fontsize=15)\n",
        "plt.yticks(fontsize=15)\n",
        "plt.show()"
      ],
      "execution_count": null,
      "outputs": [
        {
          "output_type": "display_data",
          "data": {
            "text/plain": [
              "<Figure size 504x432 with 1 Axes>"
            ],
            "image/png": "[encoded data removed]"
          },
          "metadata": {
            "needs_background": "light"
          }
        }
      ]
    },
    {
      "metadata": {
        "id": "Nr8YKeftquJr",
        "outputId": "10fd356d-9583-47d0-962d-2ee079470e73",
        "colab": {
          "base_uri": "https://localhost:8080/"
        }
      },
      "cell_type": "code",
      "source": [
        "for i in destination_type_count.index:\n",
        "    print(i)"
      ],
      "execution_count": null,
      "outputs": [
        {
          "output_type": "stream",
          "name": "stdout",
          "text": [
            "/sensorService\n",
            "/batteryService\n",
            "/movementSensor\n",
            "/washingService\n",
            "/lightControler\n",
            "/doorLockService\n",
            "/thermostat\n",
            "/smartPhone\n"
          ]
        }
      ]
    },
    {
      "metadata": {
        "id": "JhJzi-wTquJ2",
        "outputId": "e4e4dd3b-a43d-46b1-d478-1aac3cb36fa6",
        "colab": {
          "base_uri": "https://localhost:8080/"
        }
      },
      "cell_type": "code",
      "source": [
        "for i in destination_type_count.values:\n",
        "    print(i)"
      ],
      "execution_count": null,
      "outputs": [
        {
          "output_type": "stream",
          "name": "stdout",
          "text": [
            "130313\n",
            "129119\n",
            "93645\n",
            "1805\n",
            "1694\n",
            "1043\n",
            "319\n",
            "3\n"
          ]
        }
      ]
    },
    {
      "metadata": {
        "id": "jKR7xbUyquKC",
        "outputId": "97b16bc7-02b8-4691-82f1-a5cac689edd6",
        "colab": {
          "base_uri": "https://localhost:8080/",
          "height": 518
        }
      },
      "cell_type": "code",
      "source": [
        "destination_location_count = df_data_1.destinationLocation.value_counts()\n",
        "plt.figure(figsize=(7,6))\n",
        "ax=plt.subplot(111)\n",
        "plt.grid()\n",
        "plt.bar(destination_location_count.index, destination_location_count.values)\n",
        "plt.ylabel('Number of Occurrences', fontsize=20)\n",
        "plt.xlabel('Destination Location', fontsize=20)\n",
        "plt.xticks(rotation=90, fontsize=15)\n",
        "plt.yticks(fontsize=15)\n",
        "plt.show()"
      ],
      "execution_count": null,
      "outputs": [
        {
          "output_type": "display_data",
          "data": {
            "text/plain": [
              "<Figure size 504x432 with 1 Axes>"
            ],
            "image/png": "[encoded data removed]"
          },
          "metadata": {
            "needs_background": "light"
          }
        }
      ]
    },
    {
      "metadata": {
        "id": "XippO2thquKG",
        "outputId": "018d45d3-1c1c-4b19-8284-762e7e8d28bf",
        "colab": {
          "base_uri": "https://localhost:8080/"
        }
      },
      "cell_type": "code",
      "source": [
        "for i in destination_location_count.index:\n",
        "    print(i)"
      ],
      "execution_count": null,
      "outputs": [
        {
          "output_type": "stream",
          "name": "stdout",
          "text": [
            "Garage\n",
            "Entrance\n",
            "Watterroom\n",
            "Kitchen\n",
            "BedroomChildren\n",
            "Bathroom\n",
            "Showerroom\n",
            "BedroomParents\n",
            "room_9\n",
            "room_2\n",
            "room_1\n",
            "Livingroom\n",
            "Dinningroom\n",
            "room_6\n",
            "room_3\n",
            "room_4\n",
            "room_5\n",
            "room_8\n",
            "room_7\n",
            "room_10\n",
            "Bedroom\n"
          ]
        }
      ]
    },
    {
      "metadata": {
        "id": "XXBqOlQRquKN",
        "outputId": "c48f1fdd-d922-4140-c779-dbf8b964d3f0",
        "colab": {
          "base_uri": "https://localhost:8080/"
        }
      },
      "cell_type": "code",
      "source": [
        "for i in destination_location_count.values:\n",
        "    print(i)"
      ],
      "execution_count": null,
      "outputs": [
        {
          "output_type": "stream",
          "name": "stdout",
          "text": [
            "57100\n",
            "54448\n",
            "38524\n",
            "19437\n",
            "12768\n",
            "12684\n",
            "12583\n",
            "10938\n",
            "10843\n",
            "10828\n",
            "10805\n",
            "10781\n",
            "10759\n",
            "10741\n",
            "10732\n",
            "10708\n",
            "10687\n",
            "10651\n",
            "10649\n",
            "10648\n",
            "10627\n"
          ]
        }
      ]
    },
    {
      "metadata": {
        "id": "Aidtiq5tquKb",
        "outputId": "8f32ed6f-2a1f-4cca-edf6-184cdb4a2dea",
        "colab": {
          "base_uri": "https://localhost:8080/",
          "height": 525
        }
      },
      "cell_type": "code",
      "source": [
        "accessed_node_count = df_data_1.accessedNodeType.value_counts()\n",
        "plt.figure(figsize=(7,6))\n",
        "ax=plt.subplot(111)\n",
        "plt.grid()\n",
        "plt.bar(accessed_node_count.index, accessed_node_count.values)\n",
        "plt.ylabel('Number of Occurrences', fontsize=20)\n",
        "plt.xlabel('Accessed Node', fontsize=20)\n",
        "plt.xticks(rotation=90, fontsize=15)\n",
        "plt.yticks(fontsize=15)\n",
        "plt.show()"
      ],
      "execution_count": null,
      "outputs": [
        {
          "output_type": "display_data",
          "data": {
            "text/plain": [
              "<Figure size 504x432 with 1 Axes>"
            ],
            "image/png": "[encoded data removed]"
          },
          "metadata": {
            "needs_background": "light"
          }
        }
      ]
    },
    {
      "metadata": {
        "id": "ronoseg6quKj",
        "outputId": "20b1b658-f346-4610-daaf-9a651132979e",
        "colab": {
          "base_uri": "https://localhost:8080/"
        }
      },
      "cell_type": "code",
      "source": [
        "for i in accessed_node_count.index:\n",
        "    print(i)"
      ],
      "execution_count": null,
      "outputs": [
        {
          "output_type": "stream",
          "name": "stdout",
          "text": [
            "/sensorService\n",
            "/derived/boolean\n",
            "/basic/number\n",
            "/basic/text\n",
            "/thermostat\n",
            "/Malicious\n",
            "/basic/composed\n",
            "/lightControler\n",
            "/movementSensor\n",
            "/batteryService\n",
            "/doorLockService\n",
            "/washingService\n",
            "/smartPhone\n"
          ]
        }
      ]
    },
    {
      "metadata": {
        "id": "L1wPjB-1quKm",
        "outputId": "c6e78d9e-b20e-44ce-d6d9-a8bfddd799df",
        "colab": {
          "base_uri": "https://localhost:8080/"
        }
      },
      "cell_type": "code",
      "source": [
        "for i in accessed_node_count.values:\n",
        "    print(i)"
      ],
      "execution_count": null,
      "outputs": [
        {
          "output_type": "stream",
          "name": "stdout",
          "text": [
            "130155\n",
            "94725\n",
            "90010\n",
            "42428\n",
            "313\n",
            "148\n",
            "100\n",
            "23\n",
            "22\n",
            "6\n",
            "5\n",
            "3\n",
            "3\n"
          ]
        }
      ]
    },
    {
      "metadata": {
        "id": "aUM5OO3PquKu",
        "outputId": "60f59657-caa1-4cf2-b9fb-9db23c818e2d",
        "colab": {
          "base_uri": "https://localhost:8080/",
          "height": 501
        }
      },
      "cell_type": "code",
      "source": [
        "operation_count = df_data_1.operation.value_counts()\n",
        "plt.figure(figsize=(7,6))\n",
        "ax=plt.subplot(111)\n",
        "plt.grid()\n",
        "plt.bar(operation_count.index, operation_count.values)\n",
        "plt.ylabel('Number of Occurrences', fontsize=20)\n",
        "plt.xlabel('Operation', fontsize=20)\n",
        "plt.xticks(rotation=90, fontsize=15)\n",
        "plt.yticks(fontsize=15)\n",
        "plt.show()"
      ],
      "execution_count": null,
      "outputs": [
        {
          "output_type": "display_data",
          "data": {
            "text/plain": [
              "<Figure size 504x432 with 1 Axes>"
            ],
            "image/png": "[encoded data removed]"
          },
          "metadata": {
            "needs_background": "light"
          }
        }
      ]
    },
    {
      "metadata": {
        "id": "DsDL6dZHquKy",
        "outputId": "aae6484c-a209-4449-b57a-48cb4f3c0604",
        "colab": {
          "base_uri": "https://localhost:8080/"
        }
      },
      "cell_type": "code",
      "source": [
        "for i in operation_count.index:\n",
        "    print(i)"
      ],
      "execution_count": null,
      "outputs": [
        {
          "output_type": "stream",
          "name": "stdout",
          "text": [
            "read\n",
            "write\n",
            "lockSubtree\n",
            "registerService\n"
          ]
        }
      ]
    },
    {
      "metadata": {
        "id": "xrzr84ExquK1",
        "outputId": "7e06265f-c036-44be-f128-8b6f914fbed7",
        "colab": {
          "base_uri": "https://localhost:8080/"
        }
      },
      "cell_type": "code",
      "source": [
        "for i in operation_count.values:\n",
        "    print(i)"
      ],
      "execution_count": null,
      "outputs": [
        {
          "output_type": "stream",
          "name": "stdout",
          "text": [
            "248061\n",
            "109648\n",
            "148\n",
            "84\n"
          ]
        }
      ]
    },
    {
      "metadata": {
        "id": "LpErZF1YquK9",
        "outputId": "36b3ce9e-0a81-4fa7-988e-b37295fd57e6",
        "colab": {
          "base_uri": "https://localhost:8080/",
          "height": 531
        }
      },
      "cell_type": "code",
      "source": [
        "normality_count = df_data_1.normality.value_counts()\n",
        "indices = ['normal', 'DoSattack', 'scan', 'malitiousControl', 'malitiousOperation', 'spying', 'dataProbing', 'wrongSetUp']\n",
        "plt.figure(figsize=(7,6))\n",
        "ax=plt.subplot(111)\n",
        "plt.grid()\n",
        "plt.bar(indices, normality_count.values)\n",
        "plt.ylabel('Number of Occurrences', fontsize=20)\n",
        "plt.xlabel('Normality', fontsize=20)\n",
        "plt.xticks(rotation=90, fontsize=15)\n",
        "plt.yticks(fontsize=15)\n",
        "plt.show()"
      ],
      "execution_count": null,
      "outputs": [
        {
          "output_type": "display_data",
          "data": {
            "text/plain": [
              "<Figure size 504x432 with 1 Axes>"
            ],
            "image/png": "[encoded data removed]"
          },
          "metadata": {
            "needs_background": "light"
          }
        }
      ]
    },
    {
      "metadata": {
        "id": "8ofoc7AMquLC",
        "outputId": "782766e6-119f-4ceb-fd98-ff7c27e1918d",
        "colab": {
          "base_uri": "https://localhost:8080/"
        }
      },
      "cell_type": "code",
      "source": [
        "for i in normality_count.index:\n",
        "    print(i)"
      ],
      "execution_count": null,
      "outputs": [
        {
          "output_type": "stream",
          "name": "stdout",
          "text": [
            "normal\n",
            "anomalous(DoSattack)\n",
            "anomalous(scan)\n",
            "anomalous(malitiousControl)\n",
            "anomalous(malitiousOperation)\n",
            "anomalous(spying)\n",
            "anomalous(dataProbing)\n",
            "anomalous(wrongSetUp)\n"
          ]
        }
      ]
    },
    {
      "metadata": {
        "id": "kO9EijGzquLF",
        "outputId": "d23faa6b-1f08-400b-a65b-b525464b2635",
        "colab": {
          "base_uri": "https://localhost:8080/"
        }
      },
      "cell_type": "code",
      "source": [
        "for i in normality_count.values:\n",
        "    print(i)"
      ],
      "execution_count": null,
      "outputs": [
        {
          "output_type": "stream",
          "name": "stdout",
          "text": [
            "347924\n",
            "5780\n",
            "1547\n",
            "889\n",
            "805\n",
            "532\n",
            "342\n",
            "122\n"
          ]
        }
      ]
    },
    {
      "metadata": {
        "id": "_rG8p7pCquL0"
      },
      "cell_type": "markdown",
      "source": [
        "# Making Features using Label Encoding\n"
      ]
    },
    {
      "metadata": {
        "id": "yUqvj98bquL3"
      },
      "cell_type": "code",
      "source": [
        "df_1 = df_data_1.drop('timestamp',axis=1)"
      ],
      "execution_count": null,
      "outputs": []
    },
    {
      "metadata": {
        "id": "fUrqHh4EquL8"
      },
      "cell_type": "code",
      "source": [
        "from sklearn.preprocessing import LabelEncoder\n",
        "labelencoder0 = LabelEncoder()\n",
        "labelencoder1 = LabelEncoder()\n",
        "labelencoder4 = LabelEncoder()\n",
        "labelencoder7 = LabelEncoder()\n",
        "labelencodery = LabelEncoder()"
      ],
      "execution_count": null,
      "outputs": []
    },
    {
      "metadata": {
        "id": "59jb9J7yquL_"
      },
      "cell_type": "code",
      "source": [
        "X_0 = df_1.iloc[:,0].values\n",
        "X_1 = df_1.iloc[:,1].values\n",
        "X_4 = df_1.iloc[:,4].values\n",
        "X_7 = df_1.iloc[:,7].values\n",
        "y = df_1.iloc[:,11].values"
      ],
      "execution_count": null,
      "outputs": []
    },
    {
      "metadata": {
        "id": "neh9yTCIquME"
      },
      "cell_type": "code",
      "source": [
        "X_0 = labelencoder0.fit_transform(X_0)\n",
        "X_0 = X_0.reshape(len(X_0),1)\n",
        "X_1 = labelencoder1.fit_transform(X_1)\n",
        "X_1 = X_1.reshape(len(X_1),1)\n",
        "X_4 = labelencoder4.fit_transform(X_4)\n",
        "X_4 = X_4.reshape(len(X_4),1)\n",
        "X_7 = labelencoder7.fit_transform(X_7)\n",
        "X_7 = X_7.reshape(len(X_7),1)\n",
        "y = labelencodery.fit_transform(y)"
      ],
      "execution_count": null,
      "outputs": []
    },
    {
      "metadata": {
        "id": "Zf27CUALquM0"
      },
      "cell_type": "code",
      "source": [
        "le_2 = LabelEncoder()\n",
        "le_3 = LabelEncoder()\n",
        "le_5 = LabelEncoder()\n",
        "le_6 = LabelEncoder()\n",
        "le_8 = LabelEncoder()\n",
        "le_9 = LabelEncoder()\n",
        "X_2 = df_1.iloc[:,2].values\n",
        "X_3 = df_1.iloc[:,3].values\n",
        "X_5 = df_1.iloc[:,5].values\n",
        "X_6 = df_1.iloc[:,6].values\n",
        "X_8 = df_1.iloc[:,8].values\n",
        "X_9 = df_1.iloc[:,9].values\n",
        "X_10 = df_1.iloc[:,10].values"
      ],
      "execution_count": null,
      "outputs": []
    },
    {
      "metadata": {
        "id": "7vp8ao5iquM8"
      },
      "cell_type": "code",
      "source": [
        "X_2 = le_2.fit_transform(X_2)\n",
        "X_2 = X_2.reshape(len(X_2),1)\n",
        "X_3 = le_3.fit_transform(X_3)\n",
        "X_3 = X_3.reshape(len(X_3),1)\n",
        "X_5 = le_5.fit_transform(X_5)\n",
        "X_5 = X_5.reshape(len(X_5),1)\n",
        "X_6 = le_6.fit_transform(X_6)\n",
        "X_6 = X_6.reshape(len(X_6),1)\n",
        "X_8 = le_8.fit_transform(X_8)\n",
        "X_8 = X_8.reshape(len(X_8),1)\n",
        "X_9 = le_9.fit_transform(X_9)\n",
        "X_9 = X_9.reshape(len(X_9),1)\n",
        "X_10 = X_10.reshape(len(X_10),1)"
      ],
      "execution_count": null,
      "outputs": []
    },
    {
      "metadata": {
        "id": "b_mdASUSquM_"
      },
      "cell_type": "code",
      "source": [
        "X = np.concatenate((X_0,X_1,X_2,X_3,X_4,X_5,X_6,X_7,X_8,X_9,X_10),axis=1)"
      ],
      "execution_count": null,
      "outputs": []
    },
    {
      "metadata": {
        "id": "00sy55XgquND",
        "outputId": "b43327a2-b67a-4911-d8e8-e58710686bc6",
        "colab": {
          "base_uri": "https://localhost:8080/"
        }
      },
      "cell_type": "code",
      "source": [
        "labelencodery.classes_"
      ],
      "execution_count": null,
      "outputs": [
        {
          "output_type": "execute_result",
          "data": {
            "text/plain": [
              "array(['anomalous(DoSattack)', 'anomalous(dataProbing)',\n",
              "       'anomalous(malitiousControl)', 'anomalous(malitiousOperation)',\n",
              "       'anomalous(scan)', 'anomalous(spying)', 'anomalous(wrongSetUp)',\n",
              "       'normal'], dtype=object)"
            ]
          },
          "metadata": {},
          "execution_count": 120
        }
      ]
    },
    {
      "metadata": {
        "id": "Q3-T6THHquNG",
        "outputId": "e4288983-07c1-4913-d357-43ba86702a4d",
        "colab": {
          "base_uri": "https://localhost:8080/"
        }
      },
      "cell_type": "code",
      "source": [
        "labelencodery.transform(['anomalous(dataProbing)'])"
      ],
      "execution_count": null,
      "outputs": [
        {
          "output_type": "execute_result",
          "data": {
            "text/plain": [
              "array([1])"
            ]
          },
          "metadata": {},
          "execution_count": 121
        }
      ]
    },
    {
      "metadata": {
        "id": "PC8hAtefquNO"
      },
      "cell_type": "code",
      "source": [
        "y_resized = y.reshape(len(y),1)"
      ],
      "execution_count": null,
      "outputs": []
    },
    {
      "metadata": {
        "id": "0-WtXMnhquNQ"
      },
      "cell_type": "code",
      "source": [
        "df_explo = np.concatenate((y_resized,X),axis=1)\n"
      ],
      "execution_count": null,
      "outputs": []
    },
    {
      "metadata": {
        "id": "rCnsGjx6quN4"
      },
      "cell_type": "code",
      "source": [
        "df_explo = pd.DataFrame(df_explo)"
      ],
      "execution_count": null,
      "outputs": []
    },
    {
      "metadata": {
        "id": "35SzNfsPquOF"
      },
      "cell_type": "code",
      "source": [
        "df_explo.to_csv('df_explo.csv')"
      ],
      "execution_count": null,
      "outputs": []
    }
  ]
}